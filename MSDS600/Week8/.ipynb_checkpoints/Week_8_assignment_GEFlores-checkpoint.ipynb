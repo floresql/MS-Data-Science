{
 "cells": [
  {
   "cell_type": "markdown",
   "id": "da97052f",
   "metadata": {},
   "source": [
    "# Week 8 assignment: NLP on social media data\n",
    "\n",
    "Take our social media we collected last week and:\n",
    "\n",
    "- extract the sentiment scores of the titles of the posts\n",
    "    - you can use the keyword method, Python packages, or other methods to extract the sentiment scores\n",
    "- plot a histogram of the sentiment scores\n",
    "- look at descriptive statistics (mean, median, standard deviation) of the sentiment scores\n",
    "- examine the text for some of the highest and lowest sentiment scores\n",
    "- write a short analysis of the results and our process, as well as propose one idea for something we could use this data for\n",
    "\n",
    "Optional advanced challenges:\n",
    "- Compare different sentiment analysis methods (e.g. textblob and VADER). Does one seem to work better than another?\n",
    "- Get the sentiments of the comments for each post. We can do a lot with this, such as:\n",
    "    - look at the average sentiment for each post and compare it with the sentiment of the title and/or text\n",
    "    - look at the distribution of sentiments for each post and find the posts with the widest range of sentiments (controversial posts)\n",
    "- Examine the subjectivity of our data (e.g. using textblob)\n",
    "- Use topic modeling on the posts\n",
    "    - you can also add in the comments to the topic model\n",
    "- Look at the most frequent words for positive and negative sentiment posts\n",
    "\n",
    "Note: There is no assignment solution file for this week."
   ]
  },
  {
   "cell_type": "markdown",
   "id": "4608ce44",
   "metadata": {},
   "source": [
    "### Import Social Media Data"
   ]
  },
  {
   "cell_type": "code",
   "execution_count": 1,
   "id": "e5e84e50",
   "metadata": {},
   "outputs": [
    {
     "data": {
      "text/html": [
       "<div>\n",
       "<style scoped>\n",
       "    .dataframe tbody tr th:only-of-type {\n",
       "        vertical-align: middle;\n",
       "    }\n",
       "\n",
       "    .dataframe tbody tr th {\n",
       "        vertical-align: top;\n",
       "    }\n",
       "\n",
       "    .dataframe thead th {\n",
       "        text-align: right;\n",
       "    }\n",
       "</style>\n",
       "<table border=\"1\" class=\"dataframe\">\n",
       "  <thead>\n",
       "    <tr style=\"text-align: right;\">\n",
       "      <th></th>\n",
       "      <th>title</th>\n",
       "      <th>link</th>\n",
       "      <th>author</th>\n",
       "      <th>n_comments</th>\n",
       "      <th>score</th>\n",
       "      <th>text</th>\n",
       "    </tr>\n",
       "  </thead>\n",
       "  <tbody>\n",
       "    <tr>\n",
       "      <th>0</th>\n",
       "      <td>Wind power has gone from just an idea to one o...</td>\n",
       "      <td>/r/Colorado/comments/1dp2ozn/wind_power_has_go...</td>\n",
       "      <td>thecoloradosun</td>\n",
       "      <td>111</td>\n",
       "      <td>594</td>\n",
       "      <td></td>\n",
       "    </tr>\n",
       "    <tr>\n",
       "      <th>1</th>\n",
       "      <td>Last light turns dunes purple in Great Sand Du...</td>\n",
       "      <td>/r/Colorado/comments/1dp3y93/last_light_turns_...</td>\n",
       "      <td>_raidboss</td>\n",
       "      <td>4</td>\n",
       "      <td>167</td>\n",
       "      <td></td>\n",
       "    </tr>\n",
       "    <tr>\n",
       "      <th>2</th>\n",
       "      <td>Stunning sunset last night. Longmont, CO.</td>\n",
       "      <td>/r/Colorado/comments/1doxkkg/stunning_sunset_l...</td>\n",
       "      <td>razzledazzle125</td>\n",
       "      <td>3</td>\n",
       "      <td>280</td>\n",
       "      <td></td>\n",
       "    </tr>\n",
       "    <tr>\n",
       "      <th>3</th>\n",
       "      <td>Mysterious monolith appears in Northern Colorado</td>\n",
       "      <td>/r/Colorado/comments/1dpc62f/mysterious_monoli...</td>\n",
       "      <td>Knightbear49</td>\n",
       "      <td>15</td>\n",
       "      <td>24</td>\n",
       "      <td></td>\n",
       "    </tr>\n",
       "    <tr>\n",
       "      <th>4</th>\n",
       "      <td>From a hike in Woodland Park</td>\n",
       "      <td>/r/Colorado/comments/1dp66i5/from_a_hike_in_wo...</td>\n",
       "      <td>invincible789</td>\n",
       "      <td>1</td>\n",
       "      <td>43</td>\n",
       "      <td></td>\n",
       "    </tr>\n",
       "    <tr>\n",
       "      <th>...</th>\n",
       "      <td>...</td>\n",
       "      <td>...</td>\n",
       "      <td>...</td>\n",
       "      <td>...</td>\n",
       "      <td>...</td>\n",
       "      <td>...</td>\n",
       "    </tr>\n",
       "    <tr>\n",
       "      <th>637</th>\n",
       "      <td>Calling all CO musicians. What's been your exp...</td>\n",
       "      <td>/r/Colorado/comments/1b88yav/calling_all_co_mu...</td>\n",
       "      <td>J8R9L</td>\n",
       "      <td>2</td>\n",
       "      <td>17</td>\n",
       "      <td></td>\n",
       "    </tr>\n",
       "    <tr>\n",
       "      <th>638</th>\n",
       "      <td>Colorado grandmother awarded $3.76M after bung...</td>\n",
       "      <td>/r/Colorado/comments/1b7kc2k/colorado_grandmot...</td>\n",
       "      <td>nbcnews</td>\n",
       "      <td>20</td>\n",
       "      <td>347</td>\n",
       "      <td></td>\n",
       "    </tr>\n",
       "    <tr>\n",
       "      <th>639</th>\n",
       "      <td>State lawmakers introduce bill to reintroduce ...</td>\n",
       "      <td>/r/Colorado/comments/1b7ailg/state_lawmakers_i...</td>\n",
       "      <td>ButterscotchEmpty535</td>\n",
       "      <td>141</td>\n",
       "      <td>651</td>\n",
       "      <td></td>\n",
       "    </tr>\n",
       "    <tr>\n",
       "      <th>640</th>\n",
       "      <td>Congressional Candidate Now Supports a Nationa...</td>\n",
       "      <td>/r/Colorado/comments/1b7guy3/congressional_can...</td>\n",
       "      <td>Odd_Cranberry_8059</td>\n",
       "      <td>36</td>\n",
       "      <td>296</td>\n",
       "      <td></td>\n",
       "    </tr>\n",
       "    <tr>\n",
       "      <th>641</th>\n",
       "      <td>Red Rocks Through the Ruins on Mt. Falcon</td>\n",
       "      <td>/r/Colorado/comments/1b7f2ix/red_rocks_through...</td>\n",
       "      <td>vegandread</td>\n",
       "      <td>25</td>\n",
       "      <td>356</td>\n",
       "      <td></td>\n",
       "    </tr>\n",
       "  </tbody>\n",
       "</table>\n",
       "<p>642 rows × 6 columns</p>\n",
       "</div>"
      ],
      "text/plain": [
       "                                                 title  \\\n",
       "0    Wind power has gone from just an idea to one o...   \n",
       "1    Last light turns dunes purple in Great Sand Du...   \n",
       "2           Stunning sunset last night. Longmont, CO.    \n",
       "3     Mysterious monolith appears in Northern Colorado   \n",
       "4                         From a hike in Woodland Park   \n",
       "..                                                 ...   \n",
       "637  Calling all CO musicians. What's been your exp...   \n",
       "638  Colorado grandmother awarded $3.76M after bung...   \n",
       "639  State lawmakers introduce bill to reintroduce ...   \n",
       "640  Congressional Candidate Now Supports a Nationa...   \n",
       "641          Red Rocks Through the Ruins on Mt. Falcon   \n",
       "\n",
       "                                                  link                author  \\\n",
       "0    /r/Colorado/comments/1dp2ozn/wind_power_has_go...        thecoloradosun   \n",
       "1    /r/Colorado/comments/1dp3y93/last_light_turns_...             _raidboss   \n",
       "2    /r/Colorado/comments/1doxkkg/stunning_sunset_l...       razzledazzle125   \n",
       "3    /r/Colorado/comments/1dpc62f/mysterious_monoli...          Knightbear49   \n",
       "4    /r/Colorado/comments/1dp66i5/from_a_hike_in_wo...         invincible789   \n",
       "..                                                 ...                   ...   \n",
       "637  /r/Colorado/comments/1b88yav/calling_all_co_mu...                 J8R9L   \n",
       "638  /r/Colorado/comments/1b7kc2k/colorado_grandmot...               nbcnews   \n",
       "639  /r/Colorado/comments/1b7ailg/state_lawmakers_i...  ButterscotchEmpty535   \n",
       "640  /r/Colorado/comments/1b7guy3/congressional_can...    Odd_Cranberry_8059   \n",
       "641  /r/Colorado/comments/1b7f2ix/red_rocks_through...            vegandread   \n",
       "\n",
       "     n_comments  score text  \n",
       "0           111    594       \n",
       "1             4    167       \n",
       "2             3    280       \n",
       "3            15     24       \n",
       "4             1     43       \n",
       "..          ...    ...  ...  \n",
       "637           2     17       \n",
       "638          20    347       \n",
       "639         141    651       \n",
       "640          36    296       \n",
       "641          25    356       \n",
       "\n",
       "[642 rows x 6 columns]"
      ]
     },
     "execution_count": 1,
     "metadata": {},
     "output_type": "execute_result"
    }
   ],
   "source": [
    "#import sqlite3\n",
    "#import pandas as pd\n",
    "\n",
    "con = sqlite3.connect('../Week7/data/co_reddit.sqlite')\n",
    "df = pd.read_sql_query('SELECT * from posts;', con)\n",
    "con.close()\n",
    "df"
   ]
  },
  {
   "cell_type": "markdown",
   "id": "f346d136",
   "metadata": {},
   "source": [
    "### Get Sentiment Score via the keyword method"
   ]
  },
  {
   "cell_type": "code",
   "execution_count": 2,
   "id": "2754702d",
   "metadata": {},
   "outputs": [],
   "source": [
    "sentiment_df = pd.read_csv('AFINN-en-165.txt', sep='\\t', names=['word', 'score'], index_col='word')"
   ]
  },
  {
   "cell_type": "code",
   "execution_count": 3,
   "id": "0a2473ac",
   "metadata": {},
   "outputs": [
    {
     "data": {
      "text/html": [
       "<div>\n",
       "<style scoped>\n",
       "    .dataframe tbody tr th:only-of-type {\n",
       "        vertical-align: middle;\n",
       "    }\n",
       "\n",
       "    .dataframe tbody tr th {\n",
       "        vertical-align: top;\n",
       "    }\n",
       "\n",
       "    .dataframe thead th {\n",
       "        text-align: right;\n",
       "    }\n",
       "</style>\n",
       "<table border=\"1\" class=\"dataframe\">\n",
       "  <thead>\n",
       "    <tr style=\"text-align: right;\">\n",
       "      <th></th>\n",
       "      <th>score</th>\n",
       "    </tr>\n",
       "    <tr>\n",
       "      <th>word</th>\n",
       "      <th></th>\n",
       "    </tr>\n",
       "  </thead>\n",
       "  <tbody>\n",
       "    <tr>\n",
       "      <th>abandon</th>\n",
       "      <td>-2</td>\n",
       "    </tr>\n",
       "    <tr>\n",
       "      <th>abandoned</th>\n",
       "      <td>-2</td>\n",
       "    </tr>\n",
       "    <tr>\n",
       "      <th>abandons</th>\n",
       "      <td>-2</td>\n",
       "    </tr>\n",
       "    <tr>\n",
       "      <th>abducted</th>\n",
       "      <td>-2</td>\n",
       "    </tr>\n",
       "    <tr>\n",
       "      <th>abduction</th>\n",
       "      <td>-2</td>\n",
       "    </tr>\n",
       "    <tr>\n",
       "      <th>...</th>\n",
       "      <td>...</td>\n",
       "    </tr>\n",
       "    <tr>\n",
       "      <th>yucky</th>\n",
       "      <td>-2</td>\n",
       "    </tr>\n",
       "    <tr>\n",
       "      <th>yummy</th>\n",
       "      <td>3</td>\n",
       "    </tr>\n",
       "    <tr>\n",
       "      <th>zealot</th>\n",
       "      <td>-2</td>\n",
       "    </tr>\n",
       "    <tr>\n",
       "      <th>zealots</th>\n",
       "      <td>-2</td>\n",
       "    </tr>\n",
       "    <tr>\n",
       "      <th>zealous</th>\n",
       "      <td>2</td>\n",
       "    </tr>\n",
       "  </tbody>\n",
       "</table>\n",
       "<p>3382 rows × 1 columns</p>\n",
       "</div>"
      ],
      "text/plain": [
       "           score\n",
       "word            \n",
       "abandon       -2\n",
       "abandoned     -2\n",
       "abandons      -2\n",
       "abducted      -2\n",
       "abduction     -2\n",
       "...          ...\n",
       "yucky         -2\n",
       "yummy          3\n",
       "zealot        -2\n",
       "zealots       -2\n",
       "zealous        2\n",
       "\n",
       "[3382 rows x 1 columns]"
      ]
     },
     "execution_count": 3,
     "metadata": {},
     "output_type": "execute_result"
    }
   ],
   "source": [
    "sentiment_df"
   ]
  },
  {
   "cell_type": "code",
   "execution_count": 4,
   "id": "54a98895",
   "metadata": {},
   "outputs": [],
   "source": [
    "sentiment_dict = sentiment_df.to_dict()['score']"
   ]
  },
  {
   "cell_type": "markdown",
   "id": "270f3c47",
   "metadata": {},
   "source": [
    "#### Average sentiment for the title of each post"
   ]
  },
  {
   "cell_type": "code",
   "execution_count": 5,
   "id": "24247171",
   "metadata": {},
   "outputs": [],
   "source": [
    "#import numpy as np\n",
    "\n",
    "title_sentiments = []\n",
    "for title in df['title']:\n",
    "    words = title.lower().split()\n",
    "    this_titles_sentiments = []\n",
    "    for w in words:\n",
    "        if w in sentiment_dict.keys():\n",
    "            this_titles_sentiments.append(sentiment_dict[w])\n",
    "        else:\n",
    "            this_titles_sentiments.append(0)\n",
    "            \n",
    "    \n",
    "    title_sentiments.append(np.mean(this_titles_sentiments))"
   ]
  },
  {
   "cell_type": "code",
   "execution_count": 6,
   "id": "ec4c1b3c",
   "metadata": {},
   "outputs": [],
   "source": [
    "df['keyword_sentiment'] = title_sentiments"
   ]
  },
  {
   "cell_type": "markdown",
   "id": "538c116f",
   "metadata": {},
   "source": [
    "#### Histogram of the sentiment scores"
   ]
  },
  {
   "cell_type": "code",
   "execution_count": 7,
   "id": "ed1b081e",
   "metadata": {},
   "outputs": [],
   "source": [
    "#import matplotlib.pyplot as plt"
   ]
  },
  {
   "cell_type": "code",
   "execution_count": 8,
   "id": "af12fe69",
   "metadata": {},
   "outputs": [
    {
     "data": {
      "text/plain": [
       "<Axes: ylabel='Frequency'>"
      ]
     },
     "execution_count": 8,
     "metadata": {},
     "output_type": "execute_result"
    },
    {
     "data": {
      "image/png": "[encoded data removed]",
      "text/plain": [
       "<Figure size 640x480 with 1 Axes>"
      ]
     },
     "metadata": {},
     "output_type": "display_data"
    }
   ],
   "source": [
    "df['keyword_sentiment'].plot.hist(bins=30)"
   ]
  },
  {
   "cell_type": "markdown",
   "id": "2bce27dc",
   "metadata": {},
   "source": [
    "#### Look at descriptive statistics"
   ]
  },
  {
   "cell_type": "code",
   "execution_count": 10,
   "id": "ceca37c1",
   "metadata": {},
   "outputs": [
    {
     "data": {
      "text/plain": [
       "-0.0014717687980526823"
      ]
     },
     "execution_count": 10,
     "metadata": {},
     "output_type": "execute_result"
    }
   ],
   "source": [
    "df['keyword_sentiment'].mean()"
   ]
  },
  {
   "cell_type": "code",
   "execution_count": 14,
   "id": "6400af54",
   "metadata": {},
   "outputs": [
    {
     "data": {
      "text/plain": [
       "0.0"
      ]
     },
     "execution_count": 14,
     "metadata": {},
     "output_type": "execute_result"
    }
   ],
   "source": [
    "df['keyword_sentiment'].median()"
   ]
  },
  {
   "cell_type": "code",
   "execution_count": 15,
   "id": "8a2e8238",
   "metadata": {},
   "outputs": [
    {
     "data": {
      "text/plain": [
       "0.2236292582958655"
      ]
     },
     "execution_count": 15,
     "metadata": {},
     "output_type": "execute_result"
    }
   ],
   "source": [
    "df['keyword_sentiment'].std()"
   ]
  },
  {
   "cell_type": "markdown",
   "id": "49292429",
   "metadata": {},
   "source": [
    "### Highest and lowest sentiment scores"
   ]
  },
  {
   "cell_type": "code",
   "execution_count": 11,
   "id": "7c9f5977",
   "metadata": {},
   "outputs": [
    {
     "data": {
      "text/html": [
       "<div>\n",
       "<style scoped>\n",
       "    .dataframe tbody tr th:only-of-type {\n",
       "        vertical-align: middle;\n",
       "    }\n",
       "\n",
       "    .dataframe tbody tr th {\n",
       "        vertical-align: top;\n",
       "    }\n",
       "\n",
       "    .dataframe thead th {\n",
       "        text-align: right;\n",
       "    }\n",
       "</style>\n",
       "<table border=\"1\" class=\"dataframe\">\n",
       "  <thead>\n",
       "    <tr style=\"text-align: right;\">\n",
       "      <th></th>\n",
       "      <th>title</th>\n",
       "      <th>keyword_sentiment</th>\n",
       "    </tr>\n",
       "  </thead>\n",
       "  <tbody>\n",
       "    <tr>\n",
       "      <th>432</th>\n",
       "      <td>Serial rapist with nationwide trail of victims...</td>\n",
       "      <td>-1.125000</td>\n",
       "    </tr>\n",
       "    <tr>\n",
       "      <th>368</th>\n",
       "      <td>Autopsy: Suzanne Morphew died by homicide</td>\n",
       "      <td>-0.833333</td>\n",
       "    </tr>\n",
       "    <tr>\n",
       "      <th>55</th>\n",
       "      <td>The shooter who killed 5 at a Colorado LGBTQ+ ...</td>\n",
       "      <td>-0.705882</td>\n",
       "    </tr>\n",
       "    <tr>\n",
       "      <th>93</th>\n",
       "      <td>Twin lakes fire</td>\n",
       "      <td>-0.666667</td>\n",
       "    </tr>\n",
       "    <tr>\n",
       "      <th>434</th>\n",
       "      <td>Colorado funeral home owners accused of storin...</td>\n",
       "      <td>-0.666667</td>\n",
       "    </tr>\n",
       "    <tr>\n",
       "      <th>...</th>\n",
       "      <td>...</td>\n",
       "      <td>...</td>\n",
       "    </tr>\n",
       "    <tr>\n",
       "      <th>586</th>\n",
       "      <td>Having fun in the snow</td>\n",
       "      <td>0.800000</td>\n",
       "    </tr>\n",
       "    <tr>\n",
       "      <th>401</th>\n",
       "      <td>Happy earth day!</td>\n",
       "      <td>1.000000</td>\n",
       "    </tr>\n",
       "    <tr>\n",
       "      <th>114</th>\n",
       "      <td>Peaceful morning</td>\n",
       "      <td>1.000000</td>\n",
       "    </tr>\n",
       "    <tr>\n",
       "      <th>206</th>\n",
       "      <td>Beautiful Boulder</td>\n",
       "      <td>1.500000</td>\n",
       "    </tr>\n",
       "    <tr>\n",
       "      <th>584</th>\n",
       "      <td>Evergreen</td>\n",
       "      <td>2.000000</td>\n",
       "    </tr>\n",
       "  </tbody>\n",
       "</table>\n",
       "<p>642 rows × 2 columns</p>\n",
       "</div>"
      ],
      "text/plain": [
       "                                                 title  keyword_sentiment\n",
       "432  Serial rapist with nationwide trail of victims...          -1.125000\n",
       "368          Autopsy: Suzanne Morphew died by homicide          -0.833333\n",
       "55   The shooter who killed 5 at a Colorado LGBTQ+ ...          -0.705882\n",
       "93                                     Twin lakes fire          -0.666667\n",
       "434  Colorado funeral home owners accused of storin...          -0.666667\n",
       "..                                                 ...                ...\n",
       "586                             Having fun in the snow           0.800000\n",
       "401                                   Happy earth day!           1.000000\n",
       "114                                   Peaceful morning           1.000000\n",
       "206                                  Beautiful Boulder           1.500000\n",
       "584                                          Evergreen           2.000000\n",
       "\n",
       "[642 rows x 2 columns]"
      ]
     },
     "execution_count": 11,
     "metadata": {},
     "output_type": "execute_result"
    }
   ],
   "source": [
    "df.sort_values(by='keyword_sentiment')[['title', 'keyword_sentiment']]"
   ]
  },
  {
   "cell_type": "markdown",
   "id": "96b6f8ee",
   "metadata": {},
   "source": [
    "#### Lowest"
   ]
  },
  {
   "cell_type": "code",
   "execution_count": 12,
   "id": "b7560859",
   "metadata": {},
   "outputs": [
    {
     "data": {
      "text/plain": [
       "['Serial rapist with nationwide trail of victims sentenced',\n",
       " 'Autopsy: Suzanne Morphew died by homicide',\n",
       " 'The shooter who killed 5 at a Colorado LGBTQ+ club pleads guilty to 50 federal hate crimes',\n",
       " 'Twin lakes fire',\n",
       " 'Colorado funeral home owners accused of storing 190 decaying bodies are charged with Covid fraud',\n",
       " 'Colorado man who sought revenge for a stolen phone pleads guilty to fire that killed a Senegalese family of 5',\n",
       " 'Bad Faith: The Narrowgate Cult',\n",
       " 'Pueblo West man accused of threatening to “kill” young victim if they reported sexual assaults',\n",
       " \"A Colorado family's struggle with young woman's mental illness faces frightening reality\",\n",
       " 'How bad is Colorado’s road rage compared to other states?']"
      ]
     },
     "execution_count": 12,
     "metadata": {},
     "output_type": "execute_result"
    }
   ],
   "source": [
    "df.sort_values(by='keyword_sentiment')['title'].to_list()[:10]"
   ]
  },
  {
   "cell_type": "markdown",
   "id": "00ce1127",
   "metadata": {},
   "source": [
    "#### Highest"
   ]
  },
  {
   "cell_type": "code",
   "execution_count": 13,
   "id": "036b90b0",
   "metadata": {},
   "outputs": [
    {
     "data": {
      "text/plain": [
       "['Evergreen',\n",
       " 'Beautiful Boulder',\n",
       " 'Happy earth day!',\n",
       " 'Peaceful morning',\n",
       " 'Biden wins Colorado Democratic primary',\n",
       " 'Having fun in the snow',\n",
       " 'DU hockey wins national championship',\n",
       " 'Good Morning, Colorado Springs...',\n",
       " 'Salida was beautiful tonight.',\n",
       " 'Alamosa wins \"Best Small Town Cultural Scene\" award (USA Today)']"
      ]
     },
     "execution_count": 13,
     "metadata": {},
     "output_type": "execute_result"
    }
   ],
   "source": [
    "df.sort_values(by='keyword_sentiment', ascending=False)['title'].to_list()[:10]"
   ]
  },
  {
   "cell_type": "markdown",
   "id": "236f9eda",
   "metadata": {},
   "source": [
    "# Summary"
   ]
  },
  {
   "cell_type": "markdown",
   "id": "c7d6282c",
   "metadata": {},
   "source": [
    "Write a short summary of what you did and the results here."
   ]
  }
 ],
 "metadata": {
  "kernelspec": {
   "display_name": "PY310",
   "language": "python",
   "name": "py310"
  },
  "language_info": {
   "codemirror_mode": {
    "name": "ipython",
    "version": 3
   },
   "file_extension": ".py",
   "mimetype": "text/x-python",
   "name": "python",
   "nbconvert_exporter": "python",
   "pygments_lexer": "ipython3",
   "version": "3.10.14"
  }
 },
 "nbformat": 4,
 "nbformat_minor": 5
}
