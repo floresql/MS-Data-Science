{
 "cells": [
  {
   "cell_type": "markdown",
   "id": "6cafa603-e1a2-43b8-8203-897d96e3951b",
   "metadata": {},
   "source": [
    "# Week 5 Lab\n",
    "## Feature Engineering"
   ]
  },
  {
   "cell_type": "code",
   "execution_count": 16,
   "id": "64156b28-225f-4fe1-bf51-fde374f3a478",
   "metadata": {},
   "outputs": [],
   "source": [
    "# Import necessary libraries\n",
    "import pandas as pd\n",
    "import numpy as np\n",
    "import seaborn as sns\n",
    "import matplotlib.pyplot as plt\n",
    "from sklearn.ensemble import RandomForestClassifier\n",
    "from sklearn.model_selection import train_test_split\n",
    "from sklearn.metrics import accuracy_score\n",
    "from sqlalchemy import create_engine"
   ]
  },
  {
   "cell_type": "markdown",
   "id": "b7e3e097-75ce-4f7f-a1a8-6097ea24848d",
   "metadata": {},
   "source": [
    "### `Load Cleaned Data`\n",
    "#### Connection Variables"
   ]
  },
  {
   "cell_type": "code",
   "execution_count": 18,
   "id": "d0c41822-66f3-4adf-8530-0985c072cae8",
   "metadata": {},
   "outputs": [],
   "source": [
    "host = r'127.0.0.1'\n",
    "db = r'MSDS610'\n",
    "user = r'postgres'\n",
    "pw = r'Pa55w0rd'\n",
    "port = r'5432'\n",
    "schema = r'cleaned'"
   ]
  },
  {
   "cell_type": "markdown",
   "id": "a67a02be-1719-484a-835c-d576e72fc25b",
   "metadata": {},
   "source": [
    "#### Connection"
   ]
  },
  {
   "cell_type": "code",
   "execution_count": 22,
   "id": "0639f4e8-a873-450e-bb0c-ecd50accfd5f",
   "metadata": {},
   "outputs": [],
   "source": [
    "db_conn = create_engine(\"postgresql://{}:{}@{}:{}/{}\".format(user, pw, host, port, db))\n",
    "table_name = r'sales_transaction'\n",
    "schema = r'cleaned'"
   ]
  },
  {
   "cell_type": "code",
   "execution_count": 277,
   "id": "c1410754-48c4-4b31-9e49-06ee4860553a",
   "metadata": {},
   "outputs": [],
   "source": [
    "df = pd.read_sql_table(table_name, db_conn, schema)"
   ]
  },
  {
   "cell_type": "markdown",
   "id": "c3588ba9-5f24-4618-bf1b-1ec94fd185db",
   "metadata": {},
   "source": [
    "#### Looking at the Data"
   ]
  },
  {
   "cell_type": "code",
   "execution_count": 280,
   "id": "a1387040-f0f3-4dea-bc4d-6d4708420217",
   "metadata": {},
   "outputs": [
    {
     "data": {
      "text/html": [
       "<div>\n",
       "<style scoped>\n",
       "    .dataframe tbody tr th:only-of-type {\n",
       "        vertical-align: middle;\n",
       "    }\n",
       "\n",
       "    .dataframe tbody tr th {\n",
       "        vertical-align: top;\n",
       "    }\n",
       "\n",
       "    .dataframe thead th {\n",
       "        text-align: right;\n",
       "    }\n",
       "</style>\n",
       "<table border=\"1\" class=\"dataframe\">\n",
       "  <thead>\n",
       "    <tr style=\"text-align: right;\">\n",
       "      <th></th>\n",
       "      <th>Date</th>\n",
       "      <th>ProductNo</th>\n",
       "      <th>ProductName</th>\n",
       "      <th>Price</th>\n",
       "      <th>Quantity</th>\n",
       "      <th>CustomerNo</th>\n",
       "      <th>Country</th>\n",
       "    </tr>\n",
       "  </thead>\n",
       "  <tbody>\n",
       "    <tr>\n",
       "      <th>0</th>\n",
       "      <td>12/9/2019</td>\n",
       "      <td>22485</td>\n",
       "      <td>Set Of 2 Wooden Market Crates</td>\n",
       "      <td>21.47</td>\n",
       "      <td>12</td>\n",
       "      <td>17490.0</td>\n",
       "      <td>United Kingdom</td>\n",
       "    </tr>\n",
       "    <tr>\n",
       "      <th>1</th>\n",
       "      <td>12/9/2019</td>\n",
       "      <td>22596</td>\n",
       "      <td>Christmas Star Wish List Chalkboard</td>\n",
       "      <td>10.65</td>\n",
       "      <td>36</td>\n",
       "      <td>13069.0</td>\n",
       "      <td>United Kingdom</td>\n",
       "    </tr>\n",
       "    <tr>\n",
       "      <th>2</th>\n",
       "      <td>12/9/2019</td>\n",
       "      <td>23235</td>\n",
       "      <td>Storage Tin Vintage Leaf</td>\n",
       "      <td>11.53</td>\n",
       "      <td>12</td>\n",
       "      <td>13069.0</td>\n",
       "      <td>United Kingdom</td>\n",
       "    </tr>\n",
       "    <tr>\n",
       "      <th>3</th>\n",
       "      <td>12/9/2019</td>\n",
       "      <td>23272</td>\n",
       "      <td>Tree T-Light Holder Willie Winkie</td>\n",
       "      <td>10.65</td>\n",
       "      <td>12</td>\n",
       "      <td>13069.0</td>\n",
       "      <td>United Kingdom</td>\n",
       "    </tr>\n",
       "    <tr>\n",
       "      <th>4</th>\n",
       "      <td>12/9/2019</td>\n",
       "      <td>23239</td>\n",
       "      <td>Set Of 4 Knick Knack Tins Poppies</td>\n",
       "      <td>11.94</td>\n",
       "      <td>6</td>\n",
       "      <td>13069.0</td>\n",
       "      <td>United Kingdom</td>\n",
       "    </tr>\n",
       "    <tr>\n",
       "      <th>5</th>\n",
       "      <td>12/9/2019</td>\n",
       "      <td>21705</td>\n",
       "      <td>Bag 500g Swirly Marbles</td>\n",
       "      <td>10.65</td>\n",
       "      <td>24</td>\n",
       "      <td>13069.0</td>\n",
       "      <td>United Kingdom</td>\n",
       "    </tr>\n",
       "    <tr>\n",
       "      <th>6</th>\n",
       "      <td>12/9/2019</td>\n",
       "      <td>22118</td>\n",
       "      <td>Joy Wooden Block Letters</td>\n",
       "      <td>11.53</td>\n",
       "      <td>18</td>\n",
       "      <td>13069.0</td>\n",
       "      <td>United Kingdom</td>\n",
       "    </tr>\n",
       "    <tr>\n",
       "      <th>7</th>\n",
       "      <td>12/9/2019</td>\n",
       "      <td>22119</td>\n",
       "      <td>Peace Wooden Block Letters</td>\n",
       "      <td>12.25</td>\n",
       "      <td>12</td>\n",
       "      <td>13069.0</td>\n",
       "      <td>United Kingdom</td>\n",
       "    </tr>\n",
       "    <tr>\n",
       "      <th>8</th>\n",
       "      <td>12/9/2019</td>\n",
       "      <td>22217</td>\n",
       "      <td>T-Light Holder Hanging Lace</td>\n",
       "      <td>10.65</td>\n",
       "      <td>12</td>\n",
       "      <td>13069.0</td>\n",
       "      <td>United Kingdom</td>\n",
       "    </tr>\n",
       "    <tr>\n",
       "      <th>9</th>\n",
       "      <td>12/9/2019</td>\n",
       "      <td>22216</td>\n",
       "      <td>T-Light Holder White Lace</td>\n",
       "      <td>10.55</td>\n",
       "      <td>24</td>\n",
       "      <td>13069.0</td>\n",
       "      <td>United Kingdom</td>\n",
       "    </tr>\n",
       "  </tbody>\n",
       "</table>\n",
       "</div>"
      ],
      "text/plain": [
       "        Date ProductNo                          ProductName  Price  Quantity  \\\n",
       "0  12/9/2019     22485        Set Of 2 Wooden Market Crates  21.47        12   \n",
       "1  12/9/2019     22596  Christmas Star Wish List Chalkboard  10.65        36   \n",
       "2  12/9/2019     23235             Storage Tin Vintage Leaf  11.53        12   \n",
       "3  12/9/2019     23272    Tree T-Light Holder Willie Winkie  10.65        12   \n",
       "4  12/9/2019     23239    Set Of 4 Knick Knack Tins Poppies  11.94         6   \n",
       "5  12/9/2019     21705              Bag 500g Swirly Marbles  10.65        24   \n",
       "6  12/9/2019     22118             Joy Wooden Block Letters  11.53        18   \n",
       "7  12/9/2019     22119           Peace Wooden Block Letters  12.25        12   \n",
       "8  12/9/2019     22217          T-Light Holder Hanging Lace  10.65        12   \n",
       "9  12/9/2019     22216            T-Light Holder White Lace  10.55        24   \n",
       "\n",
       "   CustomerNo         Country  \n",
       "0     17490.0  United Kingdom  \n",
       "1     13069.0  United Kingdom  \n",
       "2     13069.0  United Kingdom  \n",
       "3     13069.0  United Kingdom  \n",
       "4     13069.0  United Kingdom  \n",
       "5     13069.0  United Kingdom  \n",
       "6     13069.0  United Kingdom  \n",
       "7     13069.0  United Kingdom  \n",
       "8     13069.0  United Kingdom  \n",
       "9     13069.0  United Kingdom  "
      ]
     },
     "execution_count": 280,
     "metadata": {},
     "output_type": "execute_result"
    }
   ],
   "source": [
    "df.head(10)"
   ]
  },
  {
   "cell_type": "code",
   "execution_count": 282,
   "id": "905ec845-b0e2-44bd-976e-098542a0e7ee",
   "metadata": {},
   "outputs": [
    {
     "name": "stdout",
     "output_type": "stream",
     "text": [
      "<class 'pandas.core.frame.DataFrame'>\n",
      "RangeIndex: 536350 entries, 0 to 536349\n",
      "Data columns (total 7 columns):\n",
      " #   Column       Non-Null Count   Dtype  \n",
      "---  ------       --------------   -----  \n",
      " 0   Date         536350 non-null  object \n",
      " 1   ProductNo    536350 non-null  object \n",
      " 2   ProductName  536350 non-null  object \n",
      " 3   Price        536350 non-null  float64\n",
      " 4   Quantity     536350 non-null  int64  \n",
      " 5   CustomerNo   536350 non-null  float64\n",
      " 6   Country      536350 non-null  object \n",
      "dtypes: float64(2), int64(1), object(4)\n",
      "memory usage: 28.6+ MB\n"
     ]
    }
   ],
   "source": [
    "df.info()"
   ]
  },
  {
   "cell_type": "markdown",
   "id": "c067789a-40b6-4a5f-84af-8b754b4af0a7",
   "metadata": {},
   "source": [
    "### `Analytical Question:`\n",
    "#### How can we predict the likelihood of a repeat customer based on past sales transactions?\n",
    "This question is relevant for machine learning (ML) as it allows businesses to optimize sales strategies, improve personalized recommendations, and maximize revenue."
   ]
  },
  {
   "cell_type": "markdown",
   "id": "ee81c284-461f-4c7c-8db7-c807baf39ce5",
   "metadata": {},
   "source": [
    "### Manual Features for Analysis"
   ]
  },
  {
   "cell_type": "markdown",
   "id": "eadbd07f-9209-42cb-b6fa-84d42cb0eb94",
   "metadata": {},
   "source": [
    "To support this analysis, we need features that capture customer purchasing behavior, frequency, and purchasing power.\n",
    "\n",
    "#### **Total Purchase Frequency**\n",
    "\n",
    "`Justification` Customers who purchase frequently are more likely to be repeat customers."
   ]
  },
  {
   "cell_type": "code",
   "execution_count": 296,
   "id": "e44807d1-0bea-446b-99e6-38c370a63115",
   "metadata": {},
   "outputs": [],
   "source": [
    "# Convert 'Date' to datetime\n",
    "df['Date'] = pd.to_datetime(df['Date'])\n",
    "\n",
    "# Total Purchase Frequency (Number of purchases per customer)\n",
    "df['Total_Purchase_Frequency'] = df.groupby('CustomerNo')['Date'].transform('count')\n"
   ]
  },
  {
   "cell_type": "code",
   "execution_count": 293,
   "id": "f46db9c5-b96a-45cb-9309-29e6ab8af235",
   "metadata": {},
   "outputs": [
    {
     "name": "stdout",
     "output_type": "stream",
     "text": [
      "Total Purchase Frequency (Top 5 Customers):\n",
      "    CustomerNo  Total_Purchase_Frequency\n",
      "0      17490.0                        85\n",
      "1      13069.0                       470\n",
      "20     12433.0                       419\n",
      "84     13426.0                       158\n",
      "94     17364.0                       414\n"
     ]
    }
   ],
   "source": [
    "# Display top 5 results for Total Purchase Frequency\n",
    "print(\"Total Purchase Frequency (Top 5 Customers):\")\n",
    "print(df[['CustomerNo', 'Total_Purchase_Frequency']].drop_duplicates().head())"
   ]
  },
  {
   "cell_type": "markdown",
   "id": "3b4ea0c3-9371-4710-99e9-b756942de07c",
   "metadata": {},
   "source": [
    " "
   ]
  },
  {
   "cell_type": "markdown",
   "id": "102a1b79-cc55-4023-87a5-989de94b2164",
   "metadata": {},
   "source": [
    "#### **Average Purchase Interval (Days)**\n",
    "\n",
    "`Justification:` Customers who buy regularly with a shorter interval between purchases are more likely to return."
   ]
  },
  {
   "cell_type": "code",
   "execution_count": 301,
   "id": "c5b307dc-6485-4d43-aeac-ece92e995d7f",
   "metadata": {},
   "outputs": [],
   "source": [
    "# Average Purchase Interval (Days between purchases)\n",
    "df['Prev_Purchase_Date'] = df.groupby('CustomerNo')['Date'].shift(1)\n",
    "df['Purchase_Interval_Days'] = (df['Date'] - df['Prev_Purchase_Date']).dt.days\n",
    "df['Avg_Purchase_Interval'] = df.groupby('CustomerNo')['Purchase_Interval_Days'].transform('mean')"
   ]
  },
  {
   "cell_type": "code",
   "execution_count": 303,
   "id": "29ec5c56-1742-42e3-864d-f0e2cbdae62d",
   "metadata": {},
   "outputs": [
    {
     "name": "stdout",
     "output_type": "stream",
     "text": [
      "\n",
      "Average Purchase Interval (Top 5 Customers):\n",
      "    CustomerNo  Avg_Purchase_Interval\n",
      "0      17490.0              -2.095238\n",
      "1      13069.0              -0.786780\n",
      "20     12433.0              -0.892344\n",
      "84     13426.0              -2.286624\n",
      "94     17364.0              -0.801453\n"
     ]
    }
   ],
   "source": [
    "# Display top 5 results for Average Purchase Interval\n",
    "print(\"\\nAverage Purchase Interval (Top 5 Customers):\")\n",
    "print(df[['CustomerNo', 'Avg_Purchase_Interval']].drop_duplicates().head())"
   ]
  },
  {
   "cell_type": "markdown",
   "id": "5015a121-9068-4454-8368-0bf6a3a813c9",
   "metadata": {},
   "source": [
    " "
   ]
  },
  {
   "cell_type": "markdown",
   "id": "5f3b56eb-196a-488f-b1d4-69717252d827",
   "metadata": {},
   "source": [
    "#### **Total Revenue Per Customer**\n",
    "\n",
    "`Justification:` High-spending customers are more likely to be repeat customers."
   ]
  },
  {
   "cell_type": "code",
   "execution_count": 314,
   "id": "57812455-170e-436f-81fa-044327eed57a",
   "metadata": {},
   "outputs": [],
   "source": [
    "# Total Revenue Per Customer (Sum of Price * Quantity per customer)\n",
    "df['Total_Revenue'] = df.groupby('CustomerNo').apply(lambda x: (x['Price'] * x['Quantity']).sum()).reindex(df['CustomerNo'].values).values"
   ]
  },
  {
   "cell_type": "code",
   "execution_count": 316,
   "id": "1549e0fd-2bcd-457c-880b-cb562cd78da7",
   "metadata": {},
   "outputs": [
    {
     "name": "stdout",
     "output_type": "stream",
     "text": [
      "\n",
      "Total Revenue Per Customer (Top 5 Customers):\n",
      "    CustomerNo  Total_Revenue\n",
      "0      17490.0       12716.73\n",
      "1      13069.0       59185.61\n",
      "20     12433.0      115454.49\n",
      "84     13426.0       25603.59\n",
      "94     17364.0       30012.93\n"
     ]
    }
   ],
   "source": [
    "# Display top 5 results for Total Revenue Per Customer\n",
    "print(\"\\nTotal Revenue Per Customer (Top 5 Customers):\")\n",
    "print(df[['CustomerNo', 'Total_Revenue']].drop_duplicates().head())"
   ]
  },
  {
   "cell_type": "markdown",
   "id": "d7990cf5-b854-4561-bf75-4cd1aac0ddd2",
   "metadata": {},
   "source": [
    " "
   ]
  },
  {
   "cell_type": "markdown",
   "id": "cd834dd0-40f9-472e-9a61-a1c0b69e10a4",
   "metadata": {},
   "source": [
    "#### **Customer Recency (Days since last purchase)**\n",
    "\n",
    "`Justification:` Recency is a strong predictor of repeat behavior; more recent customers are more likely to return."
   ]
  },
  {
   "cell_type": "code",
   "execution_count": 319,
   "id": "5dad8091-9efb-4978-992c-69d8d31f9217",
   "metadata": {},
   "outputs": [
    {
     "name": "stdout",
     "output_type": "stream",
     "text": [
      "\n",
      "Customer Recency (Top 5 Customers):\n",
      "    CustomerNo  Recency_Days\n",
      "0      17490.0             0\n",
      "1      13069.0             0\n",
      "20     12433.0             0\n",
      "84     13426.0             0\n",
      "94     17364.0             0\n"
     ]
    }
   ],
   "source": [
    "# 4. Customer Recency (Days since last purchase)\n",
    "latest_date = df['Date'].max()\n",
    "df['Last_Purchase_Date'] = df.groupby('CustomerNo')['Date'].transform('max')\n",
    "df['Recency_Days'] = (latest_date - df['Last_Purchase_Date']).dt.days\n",
    "\n",
    "# Display top 5 results for Customer Recency\n",
    "print(\"\\nCustomer Recency (Top 5 Customers):\")\n",
    "print(df[['CustomerNo', 'Recency_Days']].drop_duplicates().head())"
   ]
  },
  {
   "cell_type": "markdown",
   "id": "a5ce174e-4cea-4ac4-8b86-55068010d2a1",
   "metadata": {},
   "source": [
    "### RandomForrest model to investigate analytical question"
   ]
  },
  {
   "cell_type": "code",
   "execution_count": 323,
   "id": "8cf936cc-ce65-4f55-b3e9-a01b813d0c90",
   "metadata": {},
   "outputs": [
    {
     "data": {
      "text/plain": [
       "1.0"
      ]
     },
     "execution_count": 323,
     "metadata": {},
     "output_type": "execute_result"
    }
   ],
   "source": [
    "from sklearn.preprocessing import StandardScaler\n",
    "from sklearn.impute import SimpleImputer\n",
    "\n",
    "# Selecting relevant features and target variable (repeat customer classification)\n",
    "# Assuming repeat customer = 1 if Total Purchase Frequency > 1, else 0\n",
    "df['Repeat_Customer'] = (df['Total_Purchase_Frequency'] > 1).astype(int)\n",
    "\n",
    "# Define feature set and target variable\n",
    "features = ['Total_Purchase_Frequency', 'Avg_Purchase_Interval', 'Total_Revenue', 'Recency_Days']\n",
    "X = df[features]\n",
    "y = df['Repeat_Customer']\n",
    "\n",
    "# Handle missing values using mean imputation\n",
    "imputer = SimpleImputer(strategy=\"mean\")\n",
    "X = imputer.fit_transform(X)\n",
    "\n",
    "# Scale features\n",
    "scaler = StandardScaler()\n",
    "X = scaler.fit_transform(X)\n",
    "\n",
    "# Split data into training and testing sets\n",
    "X_train, X_test, y_train, y_test = train_test_split(X, y, test_size=0.2, random_state=42)\n",
    "\n",
    "# Train RandomForest Model\n",
    "rf_model = RandomForestClassifier(n_estimators=100, random_state=42)\n",
    "rf_model.fit(X_train, y_train)\n",
    "\n",
    "# Evaluate model performance\n",
    "accuracy = rf_model.score(X_test, y_test)\n",
    "\n",
    "# Display the model accuracy\n",
    "accuracy\n"
   ]
  },
  {
   "cell_type": "markdown",
   "id": "74b015f3-473f-4f2e-92d8-1f8e5e2775ba",
   "metadata": {},
   "source": [
    "The RandomForestClassifier model was successfully trained and evaluated on the dataset. The model achieved an accuracy of 100% on the test set.\n",
    "\n",
    "This perfect accuracy suggests that the model might be overfitting to the training data. Further investigation like feature importance analysis may be needed to ensure the model's generalizability.\n",
    "\n",
    "#### Feature importance analysis"
   ]
  },
  {
   "cell_type": "code",
   "execution_count": 328,
   "id": "e81e471d-f8f9-4e2f-8293-da77f11d2ff0",
   "metadata": {},
   "outputs": [
    {
     "data": {
      "image/png": "[encoded data removed]",
      "text/plain": [
       "<Figure size 1000x500 with 1 Axes>"
      ]
     },
     "metadata": {},
     "output_type": "display_data"
    },
    {
     "data": {
      "text/plain": [
       "(array([[    21,      0],\n",
       "        [     0, 107249]], dtype=int64),\n",
       " '              precision    recall  f1-score   support\\n\\n           0       1.00      1.00      1.00        21\\n           1       1.00      1.00      1.00    107249\\n\\n    accuracy                           1.00    107270\\n   macro avg       1.00      1.00      1.00    107270\\nweighted avg       1.00      1.00      1.00    107270\\n')"
      ]
     },
     "execution_count": 328,
     "metadata": {},
     "output_type": "execute_result"
    }
   ],
   "source": [
    "import matplotlib.pyplot as plt\n",
    "import numpy as np\n",
    "from sklearn.metrics import classification_report, confusion_matrix\n",
    "\n",
    "# 1. Examining Feature Importance\n",
    "feature_importances = rf_model.feature_importances_\n",
    "feature_names = ['Total_Purchase_Frequency', 'Avg_Purchase_Interval', 'Total_Revenue', 'Recency_Days']\n",
    "\n",
    "# Plot feature importance\n",
    "plt.figure(figsize=(10, 5))\n",
    "plt.barh(feature_names, feature_importances, color='skyblue')\n",
    "plt.xlabel(\"Feature Importance Score\")\n",
    "plt.ylabel(\"Features\")\n",
    "plt.title(\"Feature Importance in Random Forest Model\")\n",
    "plt.show()\n",
    "\n",
    "# 2. Evaluating Performance Using a Confusion Matrix and Classification Report\n",
    "y_pred = rf_model.predict(X_test)\n",
    "conf_matrix = confusion_matrix(y_test, y_pred)\n",
    "class_report = classification_report(y_test, y_pred)\n",
    "\n",
    "# Display results\n",
    "conf_matrix, class_report\n"
   ]
  },
  {
   "cell_type": "markdown",
   "id": "b3df530a-2bea-446f-a850-cb453beb8341",
   "metadata": {},
   "source": [
    "#### Cross-validation "
   ]
  },
  {
   "cell_type": "code",
   "execution_count": 334,
   "id": "75f23232-1bab-4e11-90b0-117d6eefb018",
   "metadata": {},
   "outputs": [
    {
     "data": {
      "text/plain": [
       "(array([1., 1., 1., 1., 1.]), 1.0)"
      ]
     },
     "execution_count": 334,
     "metadata": {},
     "output_type": "execute_result"
    }
   ],
   "source": [
    "from sklearn.model_selection import cross_val_score\n",
    "\n",
    "# Perform cross-validation with 5 folds to check for overfitting\n",
    "cv_scores = cross_val_score(rf_model, X, y, cv=5, scoring='accuracy')\n",
    "\n",
    "# Display cross-validation scores and mean accuracy\n",
    "cv_scores, cv_scores.mean()\n"
   ]
  },
  {
   "cell_type": "markdown",
   "id": "4d0351c7-d85b-4df2-a649-10d44afb125a",
   "metadata": {},
   "source": [
    "The cross-validation results show an accuracy of 100% across all three folds. This confirms that the model is still overfitting, meaning it perfectly classifies the training data "
   ]
  },
  {
   "cell_type": "markdown",
   "id": "e11f3c23-3d95-45f6-82ba-8a07af0cc102",
   "metadata": {},
   "source": [
    "### Analysis Summary: Predicting Repeat Customers Based on Past Sales Transactions\n",
    "\n",
    "The goal of this analysis was to predict the likelihood of a repeat customer based on past sales transactions. Using historical data, we engineered meaningful features that capture customer behavior, spending patterns, and purchase frequency.\n",
    "\n",
    "#### Features Created\n",
    "\n",
    "To enhance our predictive model, we engineered four key features:\n",
    "\n",
    "- Total Purchase Frequency\n",
    "    - Definition: Number of transactions per customer.\n",
    "    - Rationale: Customers with a high frequency of purchases are more likely to return.\n",
    "\n",
    "- Average Purchase Interval (Days)\n",
    "    - Definition: The average number of days between a customer’s purchases.\n",
    "    - Rationale: Shorter intervals between purchases indicate higher engagement and repeat purchases.\n",
    "\n",
    "- Total Revenue Per Customer\n",
    "    - Definition: The total amount spent by each customer (Price × Quantity summed).\n",
    "    - Rationale: High-spending customers tend to be repeat buyers.\n",
    "\n",
    "- Customer Recency (Days)\n",
    "    - Definition: Number of days since the customer’s last purchase.\n",
    "    - Rationale: Customers who purchased recently are more likely to return.\n",
    "\n",
    "#### Feature Performance Evaluation\n",
    "\n",
    "- Feature Importance Analysis (Random Forest)\n",
    "    - Total Purchase Frequency and Recency Days were the most influential predictors.\n",
    "    - Total Revenue had moderate importance but was correlated with Purchase Frequency.\n",
    "    - Average Purchase Interval had lower importance, suggesting its redundancy.\n",
    "\n",
    "- Confusion Matrix and Classification Report\n",
    "    - The model achieved 100% accuracy, indicating potential overfitting.\n",
    "\n",
    "- Cross-Validation\n",
    "    - The model consistently achieved 100% accuracy, reinforcing concerns about overfitting.\n",
    " \n",
    "#### Conclusion\n",
    "While the created features provided strong indicators of repeat customers, their high predictive power raises concerns about overfitting. The model may need simplification, regularization, or additional validation strategies before being deployed in real-world applications."
   ]
  }
 ],
 "metadata": {
  "kernelspec": {
   "display_name": "Python [conda env:base] *",
   "language": "python",
   "name": "conda-base-py"
  },
  "language_info": {
   "codemirror_mode": {
    "name": "ipython",
    "version": 3
   },
   "file_extension": ".py",
   "mimetype": "text/x-python",
   "name": "python",
   "nbconvert_exporter": "python",
   "pygments_lexer": "ipython3",
   "version": "3.11.7"
  }
 },
 "nbformat": 4,
 "nbformat_minor": 5
}
