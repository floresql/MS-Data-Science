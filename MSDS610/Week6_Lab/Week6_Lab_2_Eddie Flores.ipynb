{
 "cells": [
  {
   "cell_type": "markdown",
   "id": "7af34cff-e309-4338-999e-9db34fbf2e66",
   "metadata": {},
   "source": [
    "# Week 6 Lab Part 2\n",
    "## Model Training, Testing, and Validation"
   ]
  },
  {
   "cell_type": "markdown",
   "id": "460ba50b-4d80-4782-a53a-8f8acf3fdc5f",
   "metadata": {},
   "source": [
    "### Load Saved Model"
   ]
  },
  {
   "cell_type": "code",
   "execution_count": 134,
   "id": "da7ec5bb-698c-4c96-b328-ee1cb6e26b25",
   "metadata": {},
   "outputs": [],
   "source": [
    "from joblib import load\n",
    "\n",
    "# Define the file path for the saved model\n",
    "model_file_path = \"Week6_model.joblib\"\n",
    "\n",
    "# Load the saved model\n",
    "loaded_model = load(model_file_path)"
   ]
  },
  {
   "cell_type": "code",
   "execution_count": 144,
   "id": "65c561cb-8bc4-49ab-bdf2-9e597bbb47e8",
   "metadata": {},
   "outputs": [
    {
     "ename": "NameError",
     "evalue": "name 'X_val' is not defined",
     "output_type": "error",
     "traceback": [
      "\u001b[1;31m---------------------------------------------------------------------------\u001b[0m",
      "\u001b[1;31mNameError\u001b[0m                                 Traceback (most recent call last)",
      "Cell \u001b[1;32mIn[144], line 2\u001b[0m\n\u001b[0;32m      1\u001b[0m \u001b[38;5;66;03m# Make predictions on the validation set\u001b[39;00m\n\u001b[1;32m----> 2\u001b[0m y_val_pred \u001b[38;5;241m=\u001b[39m loaded_model\u001b[38;5;241m.\u001b[39mpredict(X_val)\n",
      "\u001b[1;31mNameError\u001b[0m: name 'X_val' is not defined"
     ]
    }
   ],
   "source": [
    "# Make predictions on the validation set\n",
    "y_val_pred = loaded_model.predict(X_val)"
   ]
  },
  {
   "cell_type": "code",
   "execution_count": 138,
   "id": "c25c2fee-238c-4919-bf46-a778f1e2e505",
   "metadata": {},
   "outputs": [
    {
     "ename": "NameError",
     "evalue": "name 'y_val_pred' is not defined",
     "output_type": "error",
     "traceback": [
      "\u001b[1;31m---------------------------------------------------------------------------\u001b[0m",
      "\u001b[1;31mNameError\u001b[0m                                 Traceback (most recent call last)",
      "Cell \u001b[1;32mIn[138], line 1\u001b[0m\n\u001b[1;32m----> 1\u001b[0m y_val_pred\n",
      "\u001b[1;31mNameError\u001b[0m: name 'y_val_pred' is not defined"
     ]
    }
   ],
   "source": [
    "y_val_pred"
   ]
  },
  {
   "cell_type": "code",
   "execution_count": 140,
   "id": "9a43842c-378a-4345-8765-32bef44d894d",
   "metadata": {},
   "outputs": [
    {
     "ename": "NameError",
     "evalue": "name 'y_val' is not defined",
     "output_type": "error",
     "traceback": [
      "\u001b[1;31m---------------------------------------------------------------------------\u001b[0m",
      "\u001b[1;31mNameError\u001b[0m                                 Traceback (most recent call last)",
      "Cell \u001b[1;32mIn[140], line 1\u001b[0m\n\u001b[1;32m----> 1\u001b[0m accuracy_score(y_val,y_val_pred)\n",
      "\u001b[1;31mNameError\u001b[0m: name 'y_val' is not defined"
     ]
    }
   ],
   "source": [
    "accuracy_score(y_val,y_val_pred)"
   ]
  },
  {
   "cell_type": "markdown",
   "id": "7fddd64c-9b57-411a-a007-2b27ecf96632",
   "metadata": {},
   "source": [
    "### I can't seem to load the file correctly.\n",
    "#### I get no x_val or y_val from the saved model. Can't find a fix online."
   ]
  },
  {
   "cell_type": "code",
   "execution_count": null,
   "id": "570cf945-1772-4cef-816f-02507ef5d7cf",
   "metadata": {},
   "outputs": [],
   "source": []
  }
 ],
 "metadata": {
  "kernelspec": {
   "display_name": "Python [conda env:base] *",
   "language": "python",
   "name": "conda-base-py"
  },
  "language_info": {
   "codemirror_mode": {
    "name": "ipython",
    "version": 3
   },
   "file_extension": ".py",
   "mimetype": "text/x-python",
   "name": "python",
   "nbconvert_exporter": "python",
   "pygments_lexer": "ipython3",
   "version": "3.11.7"
  }
 },
 "nbformat": 4,
 "nbformat_minor": 5
}
