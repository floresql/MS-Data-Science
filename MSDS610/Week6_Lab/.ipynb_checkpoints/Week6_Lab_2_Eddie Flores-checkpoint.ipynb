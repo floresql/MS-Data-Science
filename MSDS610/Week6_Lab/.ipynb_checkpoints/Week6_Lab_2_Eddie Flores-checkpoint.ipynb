{
 "cells": [
  {
   "cell_type": "markdown",
   "id": "7af34cff-e309-4338-999e-9db34fbf2e66",
   "metadata": {},
   "source": [
    "# Week 6 Lab Part 2\n",
    "## Model Training, Testing, and Validation"
   ]
  },
  {
   "cell_type": "markdown",
   "id": "460ba50b-4d80-4782-a53a-8f8acf3fdc5f",
   "metadata": {},
   "source": [
    "### Load Saved Model"
   ]
  },
  {
   "cell_type": "code",
   "execution_count": 9,
   "id": "da7ec5bb-698c-4c96-b328-ee1cb6e26b25",
   "metadata": {},
   "outputs": [],
   "source": [
    "from joblib import load\n",
    "from sklearn.metrics import accuracy_score\n",
    "\n",
    "# Define the file path for the saved model\n",
    "model_file_path = \"Week6_model.joblib\"\n",
    "\n",
    "# Load the saved model\n",
    "loaded_model = load(model_file_path)\n",
    "X_val = load(\"X_val.joblib\")\n",
    "y_val = load(\"y_val.joblib\")"
   ]
  },
  {
   "cell_type": "code",
   "execution_count": 11,
   "id": "65c561cb-8bc4-49ab-bdf2-9e597bbb47e8",
   "metadata": {},
   "outputs": [],
   "source": [
    "# Make predictions on the validation set\n",
    "y_val_pred = loaded_model.predict(X_val)"
   ]
  },
  {
   "cell_type": "code",
   "execution_count": 13,
   "id": "c25c2fee-238c-4919-bf46-a778f1e2e505",
   "metadata": {},
   "outputs": [
    {
     "data": {
      "text/plain": [
       "array([1, 1, 1, ..., 1, 1, 1])"
      ]
     },
     "execution_count": 13,
     "metadata": {},
     "output_type": "execute_result"
    }
   ],
   "source": [
    "y_val_pred"
   ]
  },
  {
   "cell_type": "code",
   "execution_count": 15,
   "id": "9a43842c-378a-4345-8765-32bef44d894d",
   "metadata": {},
   "outputs": [
    {
     "data": {
      "text/plain": [
       "1.0"
      ]
     },
     "execution_count": 15,
     "metadata": {},
     "output_type": "execute_result"
    }
   ],
   "source": [
    "accuracy_score(y_val,y_val_pred)"
   ]
  },
  {
   "cell_type": "code",
   "execution_count": null,
   "id": "570cf945-1772-4cef-816f-02507ef5d7cf",
   "metadata": {},
   "outputs": [],
   "source": []
  }
 ],
 "metadata": {
  "kernelspec": {
   "display_name": "Python [conda env:base] *",
   "language": "python",
   "name": "conda-base-py"
  },
  "language_info": {
   "codemirror_mode": {
    "name": "ipython",
    "version": 3
   },
   "file_extension": ".py",
   "mimetype": "text/x-python",
   "name": "python",
   "nbconvert_exporter": "python",
   "pygments_lexer": "ipython3",
   "version": "3.11.7"
  }
 },
 "nbformat": 4,
 "nbformat_minor": 5
}
