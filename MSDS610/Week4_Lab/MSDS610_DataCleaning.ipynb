{
 "cells": [
  {
   "cell_type": "markdown",
   "id": "3caa6f30",
   "metadata": {},
   "source": [
    "<img align=\"right\" style=\"padding-left:50px;\" src=\"figures_wk4/data_cleaning.png\" width=350><br>\n",
    "### User Bias in Data Cleaning\n",
    "For your homework assignment this week, we will explore how our treatment of our data can impact the quality of our results.\n",
    "\n",
    "**Dataset:**\n",
    "The data is a Salary Survey from AskAManager.org. It’s US-centric-ish but does allow for a range of country inputs.\n",
    "\n",
    "A list of the corresponding survey questions can be found [here](https://www.askamanager.org/2021/04/how-much-money-do-you-make-4.html).\n",
    "\n",
    " "
   ]
  },
  {
   "cell_type": "code",
   "execution_count": null,
   "id": "50e411bc",
   "metadata": {},
   "outputs": [],
   "source": [
    "import pandas as pd"
   ]
  },
  {
   "cell_type": "code",
   "execution_count": 14,
   "id": "960098db-5807-4f89-85b4-be34e2a80484",
   "metadata": {},
   "outputs": [],
   "source": [
    "df= pd.read_csv('survey_data.csv')"
   ]
  },
  {
   "cell_type": "code",
   "execution_count": 16,
   "id": "7bb64b9a-0236-4153-9dc1-560c873d2a92",
   "metadata": {},
   "outputs": [
    {
     "name": "stdout",
     "output_type": "stream",
     "text": [
      "<class 'pandas.core.frame.DataFrame'>\n",
      "RangeIndex: 28108 entries, 0 to 28107\n",
      "Data columns (total 18 columns):\n",
      " #   Column     Non-Null Count  Dtype  \n",
      "---  ------     --------------  -----  \n",
      " 0   timestamp  28108 non-null  object \n",
      " 1   q1         28108 non-null  object \n",
      " 2   q2         28033 non-null  object \n",
      " 3   q3         28107 non-null  object \n",
      " 4   q4         7273 non-null   object \n",
      " 5   q5         28108 non-null  object \n",
      " 6   q6         20793 non-null  float64\n",
      " 7   q7         28108 non-null  object \n",
      " 8   q8         211 non-null    object \n",
      " 9   q9         3047 non-null   object \n",
      " 10  q10        28108 non-null  object \n",
      " 11  q11        23074 non-null  object \n",
      " 12  q12        28026 non-null  object \n",
      " 13  q13        28108 non-null  object \n",
      " 14  q14        28108 non-null  object \n",
      " 15  q15        27885 non-null  object \n",
      " 16  q16        27937 non-null  object \n",
      " 17  q17        27931 non-null  object \n",
      "dtypes: float64(1), object(17)\n",
      "memory usage: 3.9+ MB\n"
     ]
    }
   ],
   "source": [
    "df.info()"
   ]
  },
  {
   "cell_type": "code",
   "execution_count": 18,
   "id": "59804474-eb37-41f7-b958-1c604a24586d",
   "metadata": {},
   "outputs": [
    {
     "data": {
      "text/html": [
       "<div>\n",
       "<style scoped>\n",
       "    .dataframe tbody tr th:only-of-type {\n",
       "        vertical-align: middle;\n",
       "    }\n",
       "\n",
       "    .dataframe tbody tr th {\n",
       "        vertical-align: top;\n",
       "    }\n",
       "\n",
       "    .dataframe thead th {\n",
       "        text-align: right;\n",
       "    }\n",
       "</style>\n",
       "<table border=\"1\" class=\"dataframe\">\n",
       "  <thead>\n",
       "    <tr style=\"text-align: right;\">\n",
       "      <th></th>\n",
       "      <th>timestamp</th>\n",
       "      <th>q1</th>\n",
       "      <th>q2</th>\n",
       "      <th>q3</th>\n",
       "      <th>q4</th>\n",
       "      <th>q5</th>\n",
       "      <th>q6</th>\n",
       "      <th>q7</th>\n",
       "      <th>q8</th>\n",
       "      <th>q9</th>\n",
       "      <th>q10</th>\n",
       "      <th>q11</th>\n",
       "      <th>q12</th>\n",
       "      <th>q13</th>\n",
       "      <th>q14</th>\n",
       "      <th>q15</th>\n",
       "      <th>q16</th>\n",
       "      <th>q17</th>\n",
       "    </tr>\n",
       "  </thead>\n",
       "  <tbody>\n",
       "    <tr>\n",
       "      <th>0</th>\n",
       "      <td>4/27/2021 11:02:10</td>\n",
       "      <td>25-34</td>\n",
       "      <td>Education (Higher Education)</td>\n",
       "      <td>Research and Instruction Librarian</td>\n",
       "      <td>NaN</td>\n",
       "      <td>55,000</td>\n",
       "      <td>0.0</td>\n",
       "      <td>USD</td>\n",
       "      <td>NaN</td>\n",
       "      <td>NaN</td>\n",
       "      <td>United States</td>\n",
       "      <td>Massachusetts</td>\n",
       "      <td>Boston</td>\n",
       "      <td>5-7 years</td>\n",
       "      <td>5-7 years</td>\n",
       "      <td>Master's degree</td>\n",
       "      <td>Woman</td>\n",
       "      <td>White</td>\n",
       "    </tr>\n",
       "    <tr>\n",
       "      <th>1</th>\n",
       "      <td>4/27/2021 11:02:22</td>\n",
       "      <td>25-34</td>\n",
       "      <td>Computing or Tech</td>\n",
       "      <td>Change &amp; Internal Communications Manager</td>\n",
       "      <td>NaN</td>\n",
       "      <td>54,600</td>\n",
       "      <td>4000.0</td>\n",
       "      <td>GBP</td>\n",
       "      <td>NaN</td>\n",
       "      <td>NaN</td>\n",
       "      <td>United Kingdom</td>\n",
       "      <td>NaN</td>\n",
       "      <td>Cambridge</td>\n",
       "      <td>8 - 10 years</td>\n",
       "      <td>5-7 years</td>\n",
       "      <td>College degree</td>\n",
       "      <td>Non-binary</td>\n",
       "      <td>White</td>\n",
       "    </tr>\n",
       "    <tr>\n",
       "      <th>2</th>\n",
       "      <td>4/27/2021 11:02:38</td>\n",
       "      <td>25-34</td>\n",
       "      <td>Accounting, Banking &amp; Finance</td>\n",
       "      <td>Marketing Specialist</td>\n",
       "      <td>NaN</td>\n",
       "      <td>34,000</td>\n",
       "      <td>NaN</td>\n",
       "      <td>USD</td>\n",
       "      <td>NaN</td>\n",
       "      <td>NaN</td>\n",
       "      <td>US</td>\n",
       "      <td>Tennessee</td>\n",
       "      <td>Chattanooga</td>\n",
       "      <td>2 - 4 years</td>\n",
       "      <td>2 - 4 years</td>\n",
       "      <td>College degree</td>\n",
       "      <td>Woman</td>\n",
       "      <td>White</td>\n",
       "    </tr>\n",
       "    <tr>\n",
       "      <th>3</th>\n",
       "      <td>4/27/2021 11:02:41</td>\n",
       "      <td>25-34</td>\n",
       "      <td>Nonprofits</td>\n",
       "      <td>Program Manager</td>\n",
       "      <td>NaN</td>\n",
       "      <td>62,000</td>\n",
       "      <td>3000.0</td>\n",
       "      <td>USD</td>\n",
       "      <td>NaN</td>\n",
       "      <td>NaN</td>\n",
       "      <td>USA</td>\n",
       "      <td>Wisconsin</td>\n",
       "      <td>Milwaukee</td>\n",
       "      <td>8 - 10 years</td>\n",
       "      <td>5-7 years</td>\n",
       "      <td>College degree</td>\n",
       "      <td>Woman</td>\n",
       "      <td>White</td>\n",
       "    </tr>\n",
       "    <tr>\n",
       "      <th>4</th>\n",
       "      <td>4/27/2021 11:02:42</td>\n",
       "      <td>25-34</td>\n",
       "      <td>Accounting, Banking &amp; Finance</td>\n",
       "      <td>Accounting Manager</td>\n",
       "      <td>NaN</td>\n",
       "      <td>60,000</td>\n",
       "      <td>7000.0</td>\n",
       "      <td>USD</td>\n",
       "      <td>NaN</td>\n",
       "      <td>NaN</td>\n",
       "      <td>US</td>\n",
       "      <td>South Carolina</td>\n",
       "      <td>Greenville</td>\n",
       "      <td>8 - 10 years</td>\n",
       "      <td>5-7 years</td>\n",
       "      <td>College degree</td>\n",
       "      <td>Woman</td>\n",
       "      <td>White</td>\n",
       "    </tr>\n",
       "  </tbody>\n",
       "</table>\n",
       "</div>"
      ],
      "text/plain": [
       "            timestamp     q1                             q2  \\\n",
       "0  4/27/2021 11:02:10  25-34   Education (Higher Education)   \n",
       "1  4/27/2021 11:02:22  25-34              Computing or Tech   \n",
       "2  4/27/2021 11:02:38  25-34  Accounting, Banking & Finance   \n",
       "3  4/27/2021 11:02:41  25-34                     Nonprofits   \n",
       "4  4/27/2021 11:02:42  25-34  Accounting, Banking & Finance   \n",
       "\n",
       "                                         q3   q4      q5      q6   q7   q8  \\\n",
       "0        Research and Instruction Librarian  NaN  55,000     0.0  USD  NaN   \n",
       "1  Change & Internal Communications Manager  NaN  54,600  4000.0  GBP  NaN   \n",
       "2                      Marketing Specialist  NaN  34,000     NaN  USD  NaN   \n",
       "3                           Program Manager  NaN  62,000  3000.0  USD  NaN   \n",
       "4                        Accounting Manager  NaN  60,000  7000.0  USD  NaN   \n",
       "\n",
       "    q9             q10             q11          q12           q13  \\\n",
       "0  NaN   United States   Massachusetts       Boston     5-7 years   \n",
       "1  NaN  United Kingdom             NaN    Cambridge  8 - 10 years   \n",
       "2  NaN              US       Tennessee  Chattanooga   2 - 4 years   \n",
       "3  NaN             USA       Wisconsin    Milwaukee  8 - 10 years   \n",
       "4  NaN              US  South Carolina   Greenville  8 - 10 years   \n",
       "\n",
       "           q14              q15         q16    q17  \n",
       "0    5-7 years  Master's degree       Woman  White  \n",
       "1    5-7 years   College degree  Non-binary  White  \n",
       "2  2 - 4 years   College degree       Woman  White  \n",
       "3    5-7 years   College degree       Woman  White  \n",
       "4    5-7 years   College degree       Woman  White  "
      ]
     },
     "execution_count": 18,
     "metadata": {},
     "output_type": "execute_result"
    }
   ],
   "source": [
    "df.head()"
   ]
  },
  {
   "cell_type": "markdown",
   "id": "c1ce58c7-0e14-4426-a4b7-96805ea64bbb",
   "metadata": {},
   "source": [
    "### Assignment\n",
    "Your goal for this assignment is to observe how your data treatment during the cleaning process can skew or bias the dataset.\n",
    "\n",
    "Before diving right in, stop and read through the questions associated with the dataset. As you can see, they are either free-form text entries or categorical selections. Knowing this, perform some exploratory data analysis (EDA) to investigate the \"state\" of the dataset.\n",
    "\n",
    "[Add as many code cell below here as needs]\n"
   ]
  },
  {
   "cell_type": "code",
   "execution_count": null,
   "id": "32fe5581-c12c-4b1d-bcde-be9bb0998553",
   "metadata": {},
   "outputs": [],
   "source": []
  },
  {
   "cell_type": "markdown",
   "id": "7a848f6e-a0e2-43a2-90fa-76821daed60c",
   "metadata": {},
   "source": [
    "**Question:** How would you describe the \"state\" of this dataset? Be specific and detailed in your answer. (Think paragraphs rather than sentences).\n",
    "\n",
    "[Add you answer to this markdown cell]"
   ]
  },
  {
   "cell_type": "markdown",
   "id": "320e3606-db07-41fa-a6b1-f31c3b6ffbde",
   "metadata": {},
   "source": [
    "#### The Plan"
   ]
  },
  {
   "cell_type": "markdown",
   "id": "6cdfa01e-9eb1-4dcd-a5c0-a42e4b3b53a9",
   "metadata": {},
   "source": [
    "Now, it is time to plan how you will clean up the dataset. You **are not** allowed to use any machine learning technique to clean the data. (No SMOTE! No machine learning! Or anything like that!)\n",
    "\n",
    "**Question:** Based on your EDA above, detail how you would clean up this dataset. \n",
    "Things to consider: (This is not an exhaustive list)\n",
    "- Are there columns that can't be effectively cleaned? If so, why?\n",
    "- Are there columns that genuinely won't have a data value?\n",
    "- Does it make sense to segment the dataset based on specific columns when determining how to handle the missing values?\n",
    "- Are outliers a factor in this dataset?\n",
    "\n",
    "Remember preserving as much of the data as possible is the goal. That means dropping rows with a missing value somewhere might not be the best idea.\n",
    "\n",
    "[Add you answer to this markdown cell]"
   ]
  },
  {
   "cell_type": "markdown",
   "id": "ca688475-573d-4cd7-b29a-fecf53ff6976",
   "metadata": {},
   "source": [
    "#### Implementation"
   ]
  },
  {
   "cell_type": "markdown",
   "id": "a286a2a7-a6b6-4f77-9e46-1f5e9602bb03",
   "metadata": {},
   "source": [
    "Based on the plan the you described above, go ahead and clean up the dataset.\n",
    "\n",
    "[Add as many code cell below here as needs]"
   ]
  },
  {
   "cell_type": "code",
   "execution_count": null,
   "id": "4e539139-1ced-4772-95a0-60d58bb72f4a",
   "metadata": {},
   "outputs": [],
   "source": []
  },
  {
   "cell_type": "markdown",
   "id": "49774589-0d4f-4423-bfe5-7a4e04310b2c",
   "metadata": {},
   "source": [
    "#### Reflection\n",
    "Write a short reflection (400-500 words) answering the following: \n",
    "- What were the biggest issues you encountered in the messy dataset?\n",
    "- How did cleaning the dataset improve its usability for machine learning?\n",
    "- What would happen if we trained a model on the messy dataset vs. the cleaned one?\n",
    "- Do you feel you skewed or biased the dataset while cleaning it?\n",
    "\n",
    "[Add you answer to this markdown cell]"
   ]
  },
  {
   "cell_type": "markdown",
   "id": "c146cde6-43d7-4be6-ada4-abbdd8377e6a",
   "metadata": {},
   "source": [
    "## Deliverables\n",
    "Upload your Jupyter Notebook to your GitHub repo and then provide a link to that repo in Worlclass. "
   ]
  },
  {
   "cell_type": "code",
   "execution_count": null,
   "id": "255643a1-8e6a-4615-83a4-4c0d29d55b9e",
   "metadata": {},
   "outputs": [],
   "source": []
  }
 ],
 "metadata": {
  "kernelspec": {
   "display_name": "Python [conda env:base] *",
   "language": "python",
   "name": "conda-base-py"
  },
  "language_info": {
   "codemirror_mode": {
    "name": "ipython",
    "version": 3
   },
   "file_extension": ".py",
   "mimetype": "text/x-python",
   "name": "python",
   "nbconvert_exporter": "python",
   "pygments_lexer": "ipython3",
   "version": "3.11.7"
  }
 },
 "nbformat": 4,
 "nbformat_minor": 5
}
