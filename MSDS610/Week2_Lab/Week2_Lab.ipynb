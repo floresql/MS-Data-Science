{
 "cells": [
  {
   "cell_type": "markdown",
   "id": "df1941c5-e10e-4f1f-882a-cb3a4d96929e",
   "metadata": {},
   "source": [
    "# Week 2 Lab\n",
    "## Machine Learning System (MLS) Design"
   ]
  },
  {
   "cell_type": "markdown",
   "id": "69c1d373-3403-40b2-8624-b87a83b31890",
   "metadata": {},
   "source": [
    "### Loading CSV data"
   ]
  },
  {
   "cell_type": "code",
   "execution_count": 22,
   "id": "e3089364-b20d-49db-a8c4-9f4399af9c50",
   "metadata": {},
   "outputs": [],
   "source": [
    "#Importing required packages \n",
    "\n",
    "#import seaborn as sns\n",
    "#import pandas as pd"
   ]
  },
  {
   "cell_type": "code",
   "execution_count": 19,
   "id": "20395c88-e942-43b0-8db2-48d9253e7fb9",
   "metadata": {},
   "outputs": [],
   "source": [
    "df = pd.read_csv('Sales Transaction v.4a.csv', index_col='TransactionNo')"
   ]
  },
  {
   "cell_type": "markdown",
   "id": "b72b286e-9c99-4b97-8230-ae7676abca7d",
   "metadata": {},
   "source": [
    "### Looking at data details"
   ]
  },
  {
   "cell_type": "code",
   "execution_count": 7,
   "id": "299283bd-fcdf-4919-9a6f-1c53afba77f5",
   "metadata": {},
   "outputs": [
    {
     "name": "stdout",
     "output_type": "stream",
     "text": [
      "<class 'pandas.core.frame.DataFrame'>\n",
      "Index: 536350 entries, 581482 to C536548\n",
      "Data columns (total 7 columns):\n",
      " #   Column       Non-Null Count   Dtype  \n",
      "---  ------       --------------   -----  \n",
      " 0   Date         536350 non-null  object \n",
      " 1   ProductNo    536350 non-null  object \n",
      " 2   ProductName  536350 non-null  object \n",
      " 3   Price        536350 non-null  float64\n",
      " 4   Quantity     536350 non-null  int64  \n",
      " 5   CustomerNo   536295 non-null  float64\n",
      " 6   Country      536350 non-null  object \n",
      "dtypes: float64(2), int64(1), object(4)\n",
      "memory usage: 32.7+ MB\n"
     ]
    }
   ],
   "source": [
    "df.info()"
   ]
  },
  {
   "cell_type": "code",
   "execution_count": 9,
   "id": "aa83c912-091c-4d78-a75a-7a3b80612026",
   "metadata": {},
   "outputs": [
    {
     "data": {
      "text/html": [
       "<div>\n",
       "<style scoped>\n",
       "    .dataframe tbody tr th:only-of-type {\n",
       "        vertical-align: middle;\n",
       "    }\n",
       "\n",
       "    .dataframe tbody tr th {\n",
       "        vertical-align: top;\n",
       "    }\n",
       "\n",
       "    .dataframe thead th {\n",
       "        text-align: right;\n",
       "    }\n",
       "</style>\n",
       "<table border=\"1\" class=\"dataframe\">\n",
       "  <thead>\n",
       "    <tr style=\"text-align: right;\">\n",
       "      <th></th>\n",
       "      <th>Date</th>\n",
       "      <th>ProductNo</th>\n",
       "      <th>ProductName</th>\n",
       "      <th>Price</th>\n",
       "      <th>Quantity</th>\n",
       "      <th>CustomerNo</th>\n",
       "      <th>Country</th>\n",
       "    </tr>\n",
       "  </thead>\n",
       "  <tbody>\n",
       "    <tr>\n",
       "      <th>count</th>\n",
       "      <td>536350</td>\n",
       "      <td>536350</td>\n",
       "      <td>536350</td>\n",
       "      <td>536350.000000</td>\n",
       "      <td>536350.000000</td>\n",
       "      <td>536295.000000</td>\n",
       "      <td>536350</td>\n",
       "    </tr>\n",
       "    <tr>\n",
       "      <th>unique</th>\n",
       "      <td>305</td>\n",
       "      <td>3768</td>\n",
       "      <td>3768</td>\n",
       "      <td>NaN</td>\n",
       "      <td>NaN</td>\n",
       "      <td>NaN</td>\n",
       "      <td>38</td>\n",
       "    </tr>\n",
       "    <tr>\n",
       "      <th>top</th>\n",
       "      <td>12/5/2019</td>\n",
       "      <td>85123A</td>\n",
       "      <td>Cream Hanging Heart T-Light Holder</td>\n",
       "      <td>NaN</td>\n",
       "      <td>NaN</td>\n",
       "      <td>NaN</td>\n",
       "      <td>United Kingdom</td>\n",
       "    </tr>\n",
       "    <tr>\n",
       "      <th>freq</th>\n",
       "      <td>5299</td>\n",
       "      <td>2378</td>\n",
       "      <td>2378</td>\n",
       "      <td>NaN</td>\n",
       "      <td>NaN</td>\n",
       "      <td>NaN</td>\n",
       "      <td>485095</td>\n",
       "    </tr>\n",
       "    <tr>\n",
       "      <th>mean</th>\n",
       "      <td>NaN</td>\n",
       "      <td>NaN</td>\n",
       "      <td>NaN</td>\n",
       "      <td>12.662182</td>\n",
       "      <td>9.919347</td>\n",
       "      <td>15227.893178</td>\n",
       "      <td>NaN</td>\n",
       "    </tr>\n",
       "    <tr>\n",
       "      <th>std</th>\n",
       "      <td>NaN</td>\n",
       "      <td>NaN</td>\n",
       "      <td>NaN</td>\n",
       "      <td>8.490450</td>\n",
       "      <td>216.662300</td>\n",
       "      <td>1716.582932</td>\n",
       "      <td>NaN</td>\n",
       "    </tr>\n",
       "    <tr>\n",
       "      <th>min</th>\n",
       "      <td>NaN</td>\n",
       "      <td>NaN</td>\n",
       "      <td>NaN</td>\n",
       "      <td>5.130000</td>\n",
       "      <td>-80995.000000</td>\n",
       "      <td>12004.000000</td>\n",
       "      <td>NaN</td>\n",
       "    </tr>\n",
       "    <tr>\n",
       "      <th>25%</th>\n",
       "      <td>NaN</td>\n",
       "      <td>NaN</td>\n",
       "      <td>NaN</td>\n",
       "      <td>10.990000</td>\n",
       "      <td>1.000000</td>\n",
       "      <td>13807.000000</td>\n",
       "      <td>NaN</td>\n",
       "    </tr>\n",
       "    <tr>\n",
       "      <th>50%</th>\n",
       "      <td>NaN</td>\n",
       "      <td>NaN</td>\n",
       "      <td>NaN</td>\n",
       "      <td>11.940000</td>\n",
       "      <td>3.000000</td>\n",
       "      <td>15152.000000</td>\n",
       "      <td>NaN</td>\n",
       "    </tr>\n",
       "    <tr>\n",
       "      <th>75%</th>\n",
       "      <td>NaN</td>\n",
       "      <td>NaN</td>\n",
       "      <td>NaN</td>\n",
       "      <td>14.090000</td>\n",
       "      <td>10.000000</td>\n",
       "      <td>16729.000000</td>\n",
       "      <td>NaN</td>\n",
       "    </tr>\n",
       "    <tr>\n",
       "      <th>max</th>\n",
       "      <td>NaN</td>\n",
       "      <td>NaN</td>\n",
       "      <td>NaN</td>\n",
       "      <td>660.620000</td>\n",
       "      <td>80995.000000</td>\n",
       "      <td>18287.000000</td>\n",
       "      <td>NaN</td>\n",
       "    </tr>\n",
       "  </tbody>\n",
       "</table>\n",
       "</div>"
      ],
      "text/plain": [
       "             Date ProductNo                         ProductName  \\\n",
       "count      536350    536350                              536350   \n",
       "unique        305      3768                                3768   \n",
       "top     12/5/2019    85123A  Cream Hanging Heart T-Light Holder   \n",
       "freq         5299      2378                                2378   \n",
       "mean          NaN       NaN                                 NaN   \n",
       "std           NaN       NaN                                 NaN   \n",
       "min           NaN       NaN                                 NaN   \n",
       "25%           NaN       NaN                                 NaN   \n",
       "50%           NaN       NaN                                 NaN   \n",
       "75%           NaN       NaN                                 NaN   \n",
       "max           NaN       NaN                                 NaN   \n",
       "\n",
       "                Price       Quantity     CustomerNo         Country  \n",
       "count   536350.000000  536350.000000  536295.000000          536350  \n",
       "unique            NaN            NaN            NaN              38  \n",
       "top               NaN            NaN            NaN  United Kingdom  \n",
       "freq              NaN            NaN            NaN          485095  \n",
       "mean        12.662182       9.919347   15227.893178             NaN  \n",
       "std          8.490450     216.662300    1716.582932             NaN  \n",
       "min          5.130000  -80995.000000   12004.000000             NaN  \n",
       "25%         10.990000       1.000000   13807.000000             NaN  \n",
       "50%         11.940000       3.000000   15152.000000             NaN  \n",
       "75%         14.090000      10.000000   16729.000000             NaN  \n",
       "max        660.620000   80995.000000   18287.000000             NaN  "
      ]
     },
     "execution_count": 9,
     "metadata": {},
     "output_type": "execute_result"
    }
   ],
   "source": [
    "df.describe(include = 'all')"
   ]
  },
  {
   "cell_type": "code",
   "execution_count": 11,
   "id": "21ce927f-36a7-4ad6-aece-d62d8f585829",
   "metadata": {},
   "outputs": [
    {
     "data": {
      "text/html": [
       "<div>\n",
       "<style scoped>\n",
       "    .dataframe tbody tr th:only-of-type {\n",
       "        vertical-align: middle;\n",
       "    }\n",
       "\n",
       "    .dataframe tbody tr th {\n",
       "        vertical-align: top;\n",
       "    }\n",
       "\n",
       "    .dataframe thead th {\n",
       "        text-align: right;\n",
       "    }\n",
       "</style>\n",
       "<table border=\"1\" class=\"dataframe\">\n",
       "  <thead>\n",
       "    <tr style=\"text-align: right;\">\n",
       "      <th></th>\n",
       "      <th>Date</th>\n",
       "      <th>ProductNo</th>\n",
       "      <th>ProductName</th>\n",
       "      <th>Price</th>\n",
       "      <th>Quantity</th>\n",
       "      <th>CustomerNo</th>\n",
       "      <th>Country</th>\n",
       "    </tr>\n",
       "    <tr>\n",
       "      <th>TransactionNo</th>\n",
       "      <th></th>\n",
       "      <th></th>\n",
       "      <th></th>\n",
       "      <th></th>\n",
       "      <th></th>\n",
       "      <th></th>\n",
       "      <th></th>\n",
       "    </tr>\n",
       "  </thead>\n",
       "  <tbody>\n",
       "    <tr>\n",
       "      <th>581482</th>\n",
       "      <td>12/9/2019</td>\n",
       "      <td>22485</td>\n",
       "      <td>Set Of 2 Wooden Market Crates</td>\n",
       "      <td>21.47</td>\n",
       "      <td>12</td>\n",
       "      <td>17490.0</td>\n",
       "      <td>United Kingdom</td>\n",
       "    </tr>\n",
       "    <tr>\n",
       "      <th>581475</th>\n",
       "      <td>12/9/2019</td>\n",
       "      <td>22596</td>\n",
       "      <td>Christmas Star Wish List Chalkboard</td>\n",
       "      <td>10.65</td>\n",
       "      <td>36</td>\n",
       "      <td>13069.0</td>\n",
       "      <td>United Kingdom</td>\n",
       "    </tr>\n",
       "    <tr>\n",
       "      <th>581475</th>\n",
       "      <td>12/9/2019</td>\n",
       "      <td>23235</td>\n",
       "      <td>Storage Tin Vintage Leaf</td>\n",
       "      <td>11.53</td>\n",
       "      <td>12</td>\n",
       "      <td>13069.0</td>\n",
       "      <td>United Kingdom</td>\n",
       "    </tr>\n",
       "    <tr>\n",
       "      <th>581475</th>\n",
       "      <td>12/9/2019</td>\n",
       "      <td>23272</td>\n",
       "      <td>Tree T-Light Holder Willie Winkie</td>\n",
       "      <td>10.65</td>\n",
       "      <td>12</td>\n",
       "      <td>13069.0</td>\n",
       "      <td>United Kingdom</td>\n",
       "    </tr>\n",
       "    <tr>\n",
       "      <th>581475</th>\n",
       "      <td>12/9/2019</td>\n",
       "      <td>23239</td>\n",
       "      <td>Set Of 4 Knick Knack Tins Poppies</td>\n",
       "      <td>11.94</td>\n",
       "      <td>6</td>\n",
       "      <td>13069.0</td>\n",
       "      <td>United Kingdom</td>\n",
       "    </tr>\n",
       "    <tr>\n",
       "      <th>581475</th>\n",
       "      <td>12/9/2019</td>\n",
       "      <td>21705</td>\n",
       "      <td>Bag 500g Swirly Marbles</td>\n",
       "      <td>10.65</td>\n",
       "      <td>24</td>\n",
       "      <td>13069.0</td>\n",
       "      <td>United Kingdom</td>\n",
       "    </tr>\n",
       "    <tr>\n",
       "      <th>581475</th>\n",
       "      <td>12/9/2019</td>\n",
       "      <td>22118</td>\n",
       "      <td>Joy Wooden Block Letters</td>\n",
       "      <td>11.53</td>\n",
       "      <td>18</td>\n",
       "      <td>13069.0</td>\n",
       "      <td>United Kingdom</td>\n",
       "    </tr>\n",
       "    <tr>\n",
       "      <th>581475</th>\n",
       "      <td>12/9/2019</td>\n",
       "      <td>22119</td>\n",
       "      <td>Peace Wooden Block Letters</td>\n",
       "      <td>12.25</td>\n",
       "      <td>12</td>\n",
       "      <td>13069.0</td>\n",
       "      <td>United Kingdom</td>\n",
       "    </tr>\n",
       "    <tr>\n",
       "      <th>581475</th>\n",
       "      <td>12/9/2019</td>\n",
       "      <td>22217</td>\n",
       "      <td>T-Light Holder Hanging Lace</td>\n",
       "      <td>10.65</td>\n",
       "      <td>12</td>\n",
       "      <td>13069.0</td>\n",
       "      <td>United Kingdom</td>\n",
       "    </tr>\n",
       "    <tr>\n",
       "      <th>581475</th>\n",
       "      <td>12/9/2019</td>\n",
       "      <td>22216</td>\n",
       "      <td>T-Light Holder White Lace</td>\n",
       "      <td>10.55</td>\n",
       "      <td>24</td>\n",
       "      <td>13069.0</td>\n",
       "      <td>United Kingdom</td>\n",
       "    </tr>\n",
       "  </tbody>\n",
       "</table>\n",
       "</div>"
      ],
      "text/plain": [
       "                    Date ProductNo                          ProductName  \\\n",
       "TransactionNo                                                             \n",
       "581482         12/9/2019     22485        Set Of 2 Wooden Market Crates   \n",
       "581475         12/9/2019     22596  Christmas Star Wish List Chalkboard   \n",
       "581475         12/9/2019     23235             Storage Tin Vintage Leaf   \n",
       "581475         12/9/2019     23272    Tree T-Light Holder Willie Winkie   \n",
       "581475         12/9/2019     23239    Set Of 4 Knick Knack Tins Poppies   \n",
       "581475         12/9/2019     21705              Bag 500g Swirly Marbles   \n",
       "581475         12/9/2019     22118             Joy Wooden Block Letters   \n",
       "581475         12/9/2019     22119           Peace Wooden Block Letters   \n",
       "581475         12/9/2019     22217          T-Light Holder Hanging Lace   \n",
       "581475         12/9/2019     22216            T-Light Holder White Lace   \n",
       "\n",
       "               Price  Quantity  CustomerNo         Country  \n",
       "TransactionNo                                               \n",
       "581482         21.47        12     17490.0  United Kingdom  \n",
       "581475         10.65        36     13069.0  United Kingdom  \n",
       "581475         11.53        12     13069.0  United Kingdom  \n",
       "581475         10.65        12     13069.0  United Kingdom  \n",
       "581475         11.94         6     13069.0  United Kingdom  \n",
       "581475         10.65        24     13069.0  United Kingdom  \n",
       "581475         11.53        18     13069.0  United Kingdom  \n",
       "581475         12.25        12     13069.0  United Kingdom  \n",
       "581475         10.65        12     13069.0  United Kingdom  \n",
       "581475         10.55        24     13069.0  United Kingdom  "
      ]
     },
     "execution_count": 11,
     "metadata": {},
     "output_type": "execute_result"
    }
   ],
   "source": [
    "df.head(10)"
   ]
  },
  {
   "cell_type": "markdown",
   "id": "b95791ad-7e8e-4b0d-b4f9-0a3e6360bbef",
   "metadata": {},
   "source": [
    "### Insights Based on the Dataset\n",
    "\n",
    "`Expected Structure:`\n",
    "\n",
    "Based on an initial understanding, the dataset was expected to have __8 columns__, including:\n",
    "\n",
    "- 5 text-based columns: TransactionNo, Date, ProductNo, ProductName, and Country.\n",
    "- 3 numeric columns: Price, Quantity, and CustomerNo.\n",
    "\n",
    "Among the text-based columns, Country can be categorized as categorical variables since they have a finite set of possible values.\n",
    "\n",
    "`Actual Dataset Analysis:`\n",
    "\n",
    "__Number of Entries:__ The dataset contains 536,350 rows of transaction data.\n",
    "\n",
    "__Missing Values:__ There are some missing values, specifically in the CustomerNo column.\n",
    "\n",
    "__Consistency with Expectations:__ The overall structure of the dataset aligns with what was expected (text-based and numeric columns).\n",
    "\n",
    "`Range of Values:`\n",
    "\n",
    "__Text-Based Columns:__\n",
    "- TransactionNo and ProductNo contain unique identifiers, and Country has distinct categories (e.g., \"United Kingdom\").\n",
    "\n",
    "__Numeric Columns:__\n",
    "- Price and Quantity have a meaningful range, with Price being continuous and Quantity being discrete.\n",
    "- CustomerNo is a numeric ID but has missing values.\n",
    "\n",
    "`Summary:`\n",
    "\n",
    "- The dataset is well-structured and matches expectations, making it suitable for further analysis.\n",
    "- Some preprocessing will be needed to address missing values in CustomerNo.\n",
    "- The range of values across columns ensures that there is sufficient variation for meaningful analysis."
   ]
  },
  {
   "cell_type": "markdown",
   "id": "34029616-90a4-4a31-9b55-62a4271dc5c6",
   "metadata": {},
   "source": [
    "### Importing data to Database"
   ]
  },
  {
   "cell_type": "code",
   "execution_count": 36,
   "id": "a2cb6745-e7f5-4a28-bc14-5cf4fb273aa9",
   "metadata": {},
   "outputs": [],
   "source": [
    "# Loading db package\n",
    "# from sqlalchemy import create_engine"
   ]
  },
  {
   "cell_type": "markdown",
   "id": "94eadf73-3dce-456c-8825-76183983ec47",
   "metadata": {},
   "source": [
    "#### Connection to DB"
   ]
  },
  {
   "cell_type": "code",
   "execution_count": 24,
   "id": "0b69aafe-be95-45a4-a7a0-ebb93d499114",
   "metadata": {},
   "outputs": [
    {
     "data": {
      "text/plain": [
       "(536350, 7)"
      ]
     },
     "execution_count": 24,
     "metadata": {},
     "output_type": "execute_result"
    }
   ],
   "source": [
    "df.shape"
   ]
  },
  {
   "cell_type": "code",
   "execution_count": 92,
   "id": "c73e53e4-5622-4ed0-8116-c09182d03fce",
   "metadata": {},
   "outputs": [],
   "source": [
    "host = r'127.0.0.1'\n",
    "db = r'MSDS610'\n",
    "user = r'postgres'\n",
    "pw = r'Pa55w0rd'\n",
    "port = r'5432'\n",
    "schema = r'raw'"
   ]
  },
  {
   "cell_type": "code",
   "execution_count": 94,
   "id": "408d02f4-90c9-4ac2-a635-c353b1cb4e1f",
   "metadata": {},
   "outputs": [],
   "source": [
    "db_conn = create_engine(\"postgresql://{}:{}@{}:{}/{}\".format(user, pw, host, port, db))"
   ]
  },
  {
   "cell_type": "code",
   "execution_count": 96,
   "id": "e488b742-33ef-406b-8f58-b4f791d25595",
   "metadata": {},
   "outputs": [
    {
     "data": {
      "text/html": [
       "<div>\n",
       "<style scoped>\n",
       "    .dataframe tbody tr th:only-of-type {\n",
       "        vertical-align: middle;\n",
       "    }\n",
       "\n",
       "    .dataframe tbody tr th {\n",
       "        vertical-align: top;\n",
       "    }\n",
       "\n",
       "    .dataframe thead th {\n",
       "        text-align: right;\n",
       "    }\n",
       "</style>\n",
       "<table border=\"1\" class=\"dataframe\">\n",
       "  <thead>\n",
       "    <tr style=\"text-align: right;\">\n",
       "      <th></th>\n",
       "      <th>table_name</th>\n",
       "    </tr>\n",
       "  </thead>\n",
       "  <tbody>\n",
       "  </tbody>\n",
       "</table>\n",
       "</div>"
      ],
      "text/plain": [
       "Empty DataFrame\n",
       "Columns: [table_name]\n",
       "Index: []"
      ]
     },
     "execution_count": 96,
     "metadata": {},
     "output_type": "execute_result"
    }
   ],
   "source": [
    "sql=\"select tables.table_name from information_schema.tables where (table_schema ='\"+schema+\"')order by 1;\"\n",
    "tbl_df = pd.read_sql(sql, db_conn, index_col=None)\n",
    "tbl_df"
   ]
  },
  {
   "cell_type": "markdown",
   "id": "3eb2d374-d958-4768-9b08-57399a4b6781",
   "metadata": {},
   "source": [
    "Connection Succesful"
   ]
  },
  {
   "cell_type": "markdown",
   "id": "31609810-38a0-4d5a-a017-aeed184158a6",
   "metadata": {},
   "source": [
    "#### Loading Data"
   ]
  },
  {
   "cell_type": "code",
   "execution_count": 98,
   "id": "269fa334-0ee8-412f-b174-70a89fe87c07",
   "metadata": {},
   "outputs": [],
   "source": [
    "table_name = r'sales_transaction'"
   ]
  },
  {
   "cell_type": "markdown",
   "id": "2152df62-7d3b-4fe7-b671-5d64b05d7003",
   "metadata": {},
   "source": [
    "This is where we insert or csv data into our database table"
   ]
  },
  {
   "cell_type": "code",
   "execution_count": 100,
   "id": "aa2bfb6e-ec15-48d3-9785-cccbccb3966b",
   "metadata": {},
   "outputs": [
    {
     "data": {
      "text/plain": [
       "536350"
      ]
     },
     "execution_count": 100,
     "metadata": {},
     "output_type": "execute_result"
    }
   ],
   "source": [
    "df.to_sql(table_name, con=db_conn, if_exists='replace', index=False, schema=schema, chunksize=1000, method='multi')"
   ]
  },
  {
   "cell_type": "code",
   "execution_count": 102,
   "id": "51cec3e8-302a-410b-9c7b-015ab27a5833",
   "metadata": {},
   "outputs": [
    {
     "data": {
      "text/html": [
       "<div>\n",
       "<style scoped>\n",
       "    .dataframe tbody tr th:only-of-type {\n",
       "        vertical-align: middle;\n",
       "    }\n",
       "\n",
       "    .dataframe tbody tr th {\n",
       "        vertical-align: top;\n",
       "    }\n",
       "\n",
       "    .dataframe thead th {\n",
       "        text-align: right;\n",
       "    }\n",
       "</style>\n",
       "<table border=\"1\" class=\"dataframe\">\n",
       "  <thead>\n",
       "    <tr style=\"text-align: right;\">\n",
       "      <th></th>\n",
       "      <th>table_name</th>\n",
       "    </tr>\n",
       "  </thead>\n",
       "  <tbody>\n",
       "    <tr>\n",
       "      <th>0</th>\n",
       "      <td>sales_transaction</td>\n",
       "    </tr>\n",
       "  </tbody>\n",
       "</table>\n",
       "</div>"
      ],
      "text/plain": [
       "          table_name\n",
       "0  sales_transaction"
      ]
     },
     "execution_count": 102,
     "metadata": {},
     "output_type": "execute_result"
    }
   ],
   "source": [
    "tbl_df = pd.read_sql(sql, db_conn, index_col=None)\n",
    "tbl_df"
   ]
  },
  {
   "cell_type": "markdown",
   "id": "67649d3b-2024-47e5-97b1-8751e972873f",
   "metadata": {},
   "source": [
    "Table created successfully. "
   ]
  },
  {
   "cell_type": "markdown",
   "id": "438af816-d3c3-4f70-87a3-64a4d0f7000e",
   "metadata": {},
   "source": [
    "#### Retrieving Data"
   ]
  },
  {
   "cell_type": "code",
   "execution_count": 104,
   "id": "dbeed70d-966d-44f8-9d2f-e4987a5c50a9",
   "metadata": {},
   "outputs": [],
   "source": [
    "sql=r'SELECT * FROM ' + schema + '.' + table_name\n",
    "df_check = pd.read_sql(sql, db_conn, index_col=None)"
   ]
  },
  {
   "cell_type": "code",
   "execution_count": 106,
   "id": "a8acded7-6e22-44a6-8830-78517b70a647",
   "metadata": {},
   "outputs": [
    {
     "data": {
      "text/html": [
       "<div>\n",
       "<style scoped>\n",
       "    .dataframe tbody tr th:only-of-type {\n",
       "        vertical-align: middle;\n",
       "    }\n",
       "\n",
       "    .dataframe tbody tr th {\n",
       "        vertical-align: top;\n",
       "    }\n",
       "\n",
       "    .dataframe thead th {\n",
       "        text-align: right;\n",
       "    }\n",
       "</style>\n",
       "<table border=\"1\" class=\"dataframe\">\n",
       "  <thead>\n",
       "    <tr style=\"text-align: right;\">\n",
       "      <th></th>\n",
       "      <th>Date</th>\n",
       "      <th>ProductNo</th>\n",
       "      <th>ProductName</th>\n",
       "      <th>Price</th>\n",
       "      <th>Quantity</th>\n",
       "      <th>CustomerNo</th>\n",
       "      <th>Country</th>\n",
       "    </tr>\n",
       "  </thead>\n",
       "  <tbody>\n",
       "    <tr>\n",
       "      <th>0</th>\n",
       "      <td>12/9/2019</td>\n",
       "      <td>22485</td>\n",
       "      <td>Set Of 2 Wooden Market Crates</td>\n",
       "      <td>21.47</td>\n",
       "      <td>12</td>\n",
       "      <td>17490.0</td>\n",
       "      <td>United Kingdom</td>\n",
       "    </tr>\n",
       "    <tr>\n",
       "      <th>1</th>\n",
       "      <td>12/9/2019</td>\n",
       "      <td>22596</td>\n",
       "      <td>Christmas Star Wish List Chalkboard</td>\n",
       "      <td>10.65</td>\n",
       "      <td>36</td>\n",
       "      <td>13069.0</td>\n",
       "      <td>United Kingdom</td>\n",
       "    </tr>\n",
       "    <tr>\n",
       "      <th>2</th>\n",
       "      <td>12/9/2019</td>\n",
       "      <td>23235</td>\n",
       "      <td>Storage Tin Vintage Leaf</td>\n",
       "      <td>11.53</td>\n",
       "      <td>12</td>\n",
       "      <td>13069.0</td>\n",
       "      <td>United Kingdom</td>\n",
       "    </tr>\n",
       "    <tr>\n",
       "      <th>3</th>\n",
       "      <td>12/9/2019</td>\n",
       "      <td>23272</td>\n",
       "      <td>Tree T-Light Holder Willie Winkie</td>\n",
       "      <td>10.65</td>\n",
       "      <td>12</td>\n",
       "      <td>13069.0</td>\n",
       "      <td>United Kingdom</td>\n",
       "    </tr>\n",
       "    <tr>\n",
       "      <th>4</th>\n",
       "      <td>12/9/2019</td>\n",
       "      <td>23239</td>\n",
       "      <td>Set Of 4 Knick Knack Tins Poppies</td>\n",
       "      <td>11.94</td>\n",
       "      <td>6</td>\n",
       "      <td>13069.0</td>\n",
       "      <td>United Kingdom</td>\n",
       "    </tr>\n",
       "    <tr>\n",
       "      <th>5</th>\n",
       "      <td>12/9/2019</td>\n",
       "      <td>21705</td>\n",
       "      <td>Bag 500g Swirly Marbles</td>\n",
       "      <td>10.65</td>\n",
       "      <td>24</td>\n",
       "      <td>13069.0</td>\n",
       "      <td>United Kingdom</td>\n",
       "    </tr>\n",
       "    <tr>\n",
       "      <th>6</th>\n",
       "      <td>12/9/2019</td>\n",
       "      <td>22118</td>\n",
       "      <td>Joy Wooden Block Letters</td>\n",
       "      <td>11.53</td>\n",
       "      <td>18</td>\n",
       "      <td>13069.0</td>\n",
       "      <td>United Kingdom</td>\n",
       "    </tr>\n",
       "    <tr>\n",
       "      <th>7</th>\n",
       "      <td>12/9/2019</td>\n",
       "      <td>22119</td>\n",
       "      <td>Peace Wooden Block Letters</td>\n",
       "      <td>12.25</td>\n",
       "      <td>12</td>\n",
       "      <td>13069.0</td>\n",
       "      <td>United Kingdom</td>\n",
       "    </tr>\n",
       "    <tr>\n",
       "      <th>8</th>\n",
       "      <td>12/9/2019</td>\n",
       "      <td>22217</td>\n",
       "      <td>T-Light Holder Hanging Lace</td>\n",
       "      <td>10.65</td>\n",
       "      <td>12</td>\n",
       "      <td>13069.0</td>\n",
       "      <td>United Kingdom</td>\n",
       "    </tr>\n",
       "    <tr>\n",
       "      <th>9</th>\n",
       "      <td>12/9/2019</td>\n",
       "      <td>22216</td>\n",
       "      <td>T-Light Holder White Lace</td>\n",
       "      <td>10.55</td>\n",
       "      <td>24</td>\n",
       "      <td>13069.0</td>\n",
       "      <td>United Kingdom</td>\n",
       "    </tr>\n",
       "  </tbody>\n",
       "</table>\n",
       "</div>"
      ],
      "text/plain": [
       "        Date ProductNo                          ProductName  Price  Quantity  \\\n",
       "0  12/9/2019     22485        Set Of 2 Wooden Market Crates  21.47        12   \n",
       "1  12/9/2019     22596  Christmas Star Wish List Chalkboard  10.65        36   \n",
       "2  12/9/2019     23235             Storage Tin Vintage Leaf  11.53        12   \n",
       "3  12/9/2019     23272    Tree T-Light Holder Willie Winkie  10.65        12   \n",
       "4  12/9/2019     23239    Set Of 4 Knick Knack Tins Poppies  11.94         6   \n",
       "5  12/9/2019     21705              Bag 500g Swirly Marbles  10.65        24   \n",
       "6  12/9/2019     22118             Joy Wooden Block Letters  11.53        18   \n",
       "7  12/9/2019     22119           Peace Wooden Block Letters  12.25        12   \n",
       "8  12/9/2019     22217          T-Light Holder Hanging Lace  10.65        12   \n",
       "9  12/9/2019     22216            T-Light Holder White Lace  10.55        24   \n",
       "\n",
       "   CustomerNo         Country  \n",
       "0     17490.0  United Kingdom  \n",
       "1     13069.0  United Kingdom  \n",
       "2     13069.0  United Kingdom  \n",
       "3     13069.0  United Kingdom  \n",
       "4     13069.0  United Kingdom  \n",
       "5     13069.0  United Kingdom  \n",
       "6     13069.0  United Kingdom  \n",
       "7     13069.0  United Kingdom  \n",
       "8     13069.0  United Kingdom  \n",
       "9     13069.0  United Kingdom  "
      ]
     },
     "execution_count": 106,
     "metadata": {},
     "output_type": "execute_result"
    }
   ],
   "source": [
    "df_check.head(10)"
   ]
  },
  {
   "cell_type": "markdown",
   "id": "4dcdf79b-1442-4b5e-82c2-058a46978fff",
   "metadata": {},
   "source": [
    "Data loaded to Postgres successfully."
   ]
  }
 ],
 "metadata": {
  "kernelspec": {
   "display_name": "Python [conda env:base] *",
   "language": "python",
   "name": "conda-base-py"
  },
  "language_info": {
   "codemirror_mode": {
    "name": "ipython",
    "version": 3
   },
   "file_extension": ".py",
   "mimetype": "text/x-python",
   "name": "python",
   "nbconvert_exporter": "python",
   "pygments_lexer": "ipython3",
   "version": "3.11.7"
  }
 },
 "nbformat": 4,
 "nbformat_minor": 5
}
