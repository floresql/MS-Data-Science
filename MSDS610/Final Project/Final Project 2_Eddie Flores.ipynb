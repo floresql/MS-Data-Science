{
 "cells": [
  {
   "cell_type": "markdown",
   "id": "c592d8f2-0e6f-44d7-9080-eab6e8f801e1",
   "metadata": {},
   "source": [
    "# MSDS 610 — Final Project 2\n",
    "### Eddie Flores"
   ]
  },
  {
   "cell_type": "markdown",
   "id": "94f93af2-c877-4058-9376-624bece6d001",
   "metadata": {},
   "source": [
    "` **Note:** Optimized pkl model was too large to upload to Github.`"
   ]
  },
  {
   "cell_type": "code",
   "execution_count": null,
   "id": "9a5a8287-a1d1-4f0f-a386-364fab1edc8d",
   "metadata": {},
   "outputs": [],
   "source": [
    "# Reload necessary libraries\n",
    "import pandas as pd\n",
    "import numpy as np\n",
    "import joblib\n",
    "\n",
    "# Load the optimized model\n",
    "optimized_model_path = \"optimized_random_forest_model.pkl\"\n",
    "optimized_rf_model = joblib.load(optimized_model_path)\n",
    "\n",
    "# Load the live data\n",
    "live_data_path = \"/mnt/data/live_data.csv\"\n",
    "df_live = pd.read_csv(live_data_path)\n",
    "\n",
    "# Load the cleansing decisions table (assumed previously created)\n",
    "cleansing_decisions_path = \"/mnt/data/cleansing_decisions.csv\"\n",
    "df_cleansing_rules = pd.read_csv(cleansing_decisions_path)\n",
    "\n",
    "# Display the first few rows of the live data to inspect its structure\n",
    "df_live.head()\n"
   ]
  }
 ],
 "metadata": {
  "kernelspec": {
   "display_name": "Python [conda env:base] *",
   "language": "python",
   "name": "conda-base-py"
  },
  "language_info": {
   "codemirror_mode": {
    "name": "ipython",
    "version": 3
   },
   "file_extension": ".py",
   "mimetype": "text/x-python",
   "name": "python",
   "nbconvert_exporter": "python",
   "pygments_lexer": "ipython3",
   "version": "3.11.7"
  }
 },
 "nbformat": 4,
 "nbformat_minor": 5
}
