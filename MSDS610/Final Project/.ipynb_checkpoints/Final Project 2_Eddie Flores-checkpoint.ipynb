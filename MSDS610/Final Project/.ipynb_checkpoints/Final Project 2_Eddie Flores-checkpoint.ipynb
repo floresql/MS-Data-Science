{
 "cells": [
  {
   "cell_type": "markdown",
   "id": "c592d8f2-0e6f-44d7-9080-eab6e8f801e1",
   "metadata": {},
   "source": [
    "# MSDS 610 — Final Project 2\n",
    "### Eddie Flores"
   ]
  },
  {
   "cell_type": "code",
   "execution_count": null,
   "id": "9a5a8287-a1d1-4f0f-a386-364fab1edc8d",
   "metadata": {},
   "outputs": [],
   "source": []
  }
 ],
 "metadata": {
  "kernelspec": {
   "display_name": "Python [conda env:base] *",
   "language": "python",
   "name": "conda-base-py"
  },
  "language_info": {
   "codemirror_mode": {
    "name": "ipython",
    "version": 3
   },
   "file_extension": ".py",
   "mimetype": "text/x-python",
   "name": "python",
   "nbconvert_exporter": "python",
   "pygments_lexer": "ipython3",
   "version": "3.11.7"
  }
 },
 "nbformat": 4,
 "nbformat_minor": 5
}
