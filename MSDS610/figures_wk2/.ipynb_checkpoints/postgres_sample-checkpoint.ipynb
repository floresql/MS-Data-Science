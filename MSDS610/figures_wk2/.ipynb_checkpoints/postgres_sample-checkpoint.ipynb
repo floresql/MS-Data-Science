{
 "cells": [
  {
   "cell_type": "markdown",
   "id": "8cd5efa0-c7be-4849-9aec-2bb3e940e513",
   "metadata": {},
   "source": [
    "## Demo: Interacting with PostgreSQL\n",
    "For this demo, we'll load the penguin dataset into my local PostgreSQL database."
   ]
  },
  {
   "cell_type": "markdown",
   "id": "0db04cbd-5b13-4745-9f43-b5ec468bbee4",
   "metadata": {},
   "source": [
    "<img align=\"left\" style=\"padding-right:10px;\" src=\"figures_wk2/penguins_logo.png\" width=150><br>\n",
    "The Palmer Penguins data set is one of the Seaborn \"built-in\" data sets. \n",
    "\n",
    "The seaborn library has access to a speccial GitHub repository that contains 17 different dataset.\n",
    "\n",
    "To access one of these datasets, use seaborns's `load_dataset()`."
   ]
  },
  {
   "cell_type": "code",
   "execution_count": 19,
   "id": "b2a28d44-9bbd-445e-8535-07d1054d177d",
   "metadata": {},
   "outputs": [],
   "source": [
    "import seaborn as sns\n",
    "import pandas as pd"
   ]
  },
  {
   "cell_type": "code",
   "execution_count": 21,
   "id": "b95d8a30-6321-49f0-b381-19ceb2227425",
   "metadata": {},
   "outputs": [],
   "source": [
    "penguins = sns.load_dataset('penguins')"
   ]
  },
  {
   "cell_type": "markdown",
   "id": "a10ea806-6fd8-4447-96d3-daee39519b43",
   "metadata": {},
   "source": [
    "**Palmer Penguins:** The dataset consists of 7 columns\n",
    "|field_name|description|data_type|\n",
    "|---|---|---|\n",
    "|species|penguin species (Chinstrap, Adélie, or Gentoo)|nominal|\n",
    "|island|island name (Dream, Torgersen, or Biscoe)|nominal|\n",
    "|culmen_length_mm|culmen length (mm)|continuous|\n",
    "|culmen_depth_mm|culmen depth (mm)|continuous|\n",
    "|flipper_length_mm|flipper length (mm)|continuous|\n",
    "|body_mass_g|body mass (g)|continuous|\n",
    "\n",
    "|sex|penguin sex|nominal|\n",
    "\n",
    "Let's compare the anticipated dataset structure to the actual dataset."
   ]
  },
  {
   "cell_type": "code",
   "execution_count": 24,
   "id": "c2798c23-13f9-45f0-ad27-46ad21ea540d",
   "metadata": {},
   "outputs": [
    {
     "name": "stdout",
     "output_type": "stream",
     "text": [
      "<class 'pandas.core.frame.DataFrame'>\n",
      "RangeIndex: 344 entries, 0 to 343\n",
      "Data columns (total 7 columns):\n",
      " #   Column             Non-Null Count  Dtype  \n",
      "---  ------             --------------  -----  \n",
      " 0   species            344 non-null    object \n",
      " 1   island             344 non-null    object \n",
      " 2   bill_length_mm     342 non-null    float64\n",
      " 3   bill_depth_mm      342 non-null    float64\n",
      " 4   flipper_length_mm  342 non-null    float64\n",
      " 5   body_mass_g        342 non-null    float64\n",
      " 6   sex                333 non-null    object \n",
      "dtypes: float64(4), object(3)\n",
      "memory usage: 18.9+ KB\n"
     ]
    }
   ],
   "source": [
    "penguins.info()"
   ]
  },
  {
   "cell_type": "code",
   "execution_count": 29,
   "id": "c3630671-9b27-423a-83fc-d1a39f820761",
   "metadata": {},
   "outputs": [
    {
     "data": {
      "text/html": [
       "<div>\n",
       "<style scoped>\n",
       "    .dataframe tbody tr th:only-of-type {\n",
       "        vertical-align: middle;\n",
       "    }\n",
       "\n",
       "    .dataframe tbody tr th {\n",
       "        vertical-align: top;\n",
       "    }\n",
       "\n",
       "    .dataframe thead th {\n",
       "        text-align: right;\n",
       "    }\n",
       "</style>\n",
       "<table border=\"1\" class=\"dataframe\">\n",
       "  <thead>\n",
       "    <tr style=\"text-align: right;\">\n",
       "      <th></th>\n",
       "      <th>species</th>\n",
       "      <th>island</th>\n",
       "      <th>bill_length_mm</th>\n",
       "      <th>bill_depth_mm</th>\n",
       "      <th>flipper_length_mm</th>\n",
       "      <th>body_mass_g</th>\n",
       "      <th>sex</th>\n",
       "    </tr>\n",
       "  </thead>\n",
       "  <tbody>\n",
       "    <tr>\n",
       "      <th>count</th>\n",
       "      <td>344</td>\n",
       "      <td>344</td>\n",
       "      <td>342.000000</td>\n",
       "      <td>342.000000</td>\n",
       "      <td>342.000000</td>\n",
       "      <td>342.000000</td>\n",
       "      <td>333</td>\n",
       "    </tr>\n",
       "    <tr>\n",
       "      <th>unique</th>\n",
       "      <td>3</td>\n",
       "      <td>3</td>\n",
       "      <td>NaN</td>\n",
       "      <td>NaN</td>\n",
       "      <td>NaN</td>\n",
       "      <td>NaN</td>\n",
       "      <td>2</td>\n",
       "    </tr>\n",
       "    <tr>\n",
       "      <th>top</th>\n",
       "      <td>Adelie</td>\n",
       "      <td>Biscoe</td>\n",
       "      <td>NaN</td>\n",
       "      <td>NaN</td>\n",
       "      <td>NaN</td>\n",
       "      <td>NaN</td>\n",
       "      <td>Male</td>\n",
       "    </tr>\n",
       "    <tr>\n",
       "      <th>freq</th>\n",
       "      <td>152</td>\n",
       "      <td>168</td>\n",
       "      <td>NaN</td>\n",
       "      <td>NaN</td>\n",
       "      <td>NaN</td>\n",
       "      <td>NaN</td>\n",
       "      <td>168</td>\n",
       "    </tr>\n",
       "    <tr>\n",
       "      <th>mean</th>\n",
       "      <td>NaN</td>\n",
       "      <td>NaN</td>\n",
       "      <td>43.921930</td>\n",
       "      <td>17.151170</td>\n",
       "      <td>200.915205</td>\n",
       "      <td>4201.754386</td>\n",
       "      <td>NaN</td>\n",
       "    </tr>\n",
       "    <tr>\n",
       "      <th>std</th>\n",
       "      <td>NaN</td>\n",
       "      <td>NaN</td>\n",
       "      <td>5.459584</td>\n",
       "      <td>1.974793</td>\n",
       "      <td>14.061714</td>\n",
       "      <td>801.954536</td>\n",
       "      <td>NaN</td>\n",
       "    </tr>\n",
       "    <tr>\n",
       "      <th>min</th>\n",
       "      <td>NaN</td>\n",
       "      <td>NaN</td>\n",
       "      <td>32.100000</td>\n",
       "      <td>13.100000</td>\n",
       "      <td>172.000000</td>\n",
       "      <td>2700.000000</td>\n",
       "      <td>NaN</td>\n",
       "    </tr>\n",
       "    <tr>\n",
       "      <th>25%</th>\n",
       "      <td>NaN</td>\n",
       "      <td>NaN</td>\n",
       "      <td>39.225000</td>\n",
       "      <td>15.600000</td>\n",
       "      <td>190.000000</td>\n",
       "      <td>3550.000000</td>\n",
       "      <td>NaN</td>\n",
       "    </tr>\n",
       "    <tr>\n",
       "      <th>50%</th>\n",
       "      <td>NaN</td>\n",
       "      <td>NaN</td>\n",
       "      <td>44.450000</td>\n",
       "      <td>17.300000</td>\n",
       "      <td>197.000000</td>\n",
       "      <td>4050.000000</td>\n",
       "      <td>NaN</td>\n",
       "    </tr>\n",
       "    <tr>\n",
       "      <th>75%</th>\n",
       "      <td>NaN</td>\n",
       "      <td>NaN</td>\n",
       "      <td>48.500000</td>\n",
       "      <td>18.700000</td>\n",
       "      <td>213.000000</td>\n",
       "      <td>4750.000000</td>\n",
       "      <td>NaN</td>\n",
       "    </tr>\n",
       "    <tr>\n",
       "      <th>max</th>\n",
       "      <td>NaN</td>\n",
       "      <td>NaN</td>\n",
       "      <td>59.600000</td>\n",
       "      <td>21.500000</td>\n",
       "      <td>231.000000</td>\n",
       "      <td>6300.000000</td>\n",
       "      <td>NaN</td>\n",
       "    </tr>\n",
       "  </tbody>\n",
       "</table>\n",
       "</div>"
      ],
      "text/plain": [
       "       species  island  bill_length_mm  bill_depth_mm  flipper_length_mm  \\\n",
       "count      344     344      342.000000     342.000000         342.000000   \n",
       "unique       3       3             NaN            NaN                NaN   \n",
       "top     Adelie  Biscoe             NaN            NaN                NaN   \n",
       "freq       152     168             NaN            NaN                NaN   \n",
       "mean       NaN     NaN       43.921930      17.151170         200.915205   \n",
       "std        NaN     NaN        5.459584       1.974793          14.061714   \n",
       "min        NaN     NaN       32.100000      13.100000         172.000000   \n",
       "25%        NaN     NaN       39.225000      15.600000         190.000000   \n",
       "50%        NaN     NaN       44.450000      17.300000         197.000000   \n",
       "75%        NaN     NaN       48.500000      18.700000         213.000000   \n",
       "max        NaN     NaN       59.600000      21.500000         231.000000   \n",
       "\n",
       "        body_mass_g   sex  \n",
       "count    342.000000   333  \n",
       "unique          NaN     2  \n",
       "top             NaN  Male  \n",
       "freq            NaN   168  \n",
       "mean    4201.754386   NaN  \n",
       "std      801.954536   NaN  \n",
       "min     2700.000000   NaN  \n",
       "25%     3550.000000   NaN  \n",
       "50%     4050.000000   NaN  \n",
       "75%     4750.000000   NaN  \n",
       "max     6300.000000   NaN  "
      ]
     },
     "execution_count": 29,
     "metadata": {},
     "output_type": "execute_result"
    }
   ],
   "source": [
    "penguins.describe(include = 'all')"
   ]
  },
  {
   "cell_type": "code",
   "execution_count": 100,
   "id": "ab86ca41-fca6-49c1-8dcf-3a357b761f9a",
   "metadata": {},
   "outputs": [
    {
     "data": {
      "text/html": [
       "<div>\n",
       "<style scoped>\n",
       "    .dataframe tbody tr th:only-of-type {\n",
       "        vertical-align: middle;\n",
       "    }\n",
       "\n",
       "    .dataframe tbody tr th {\n",
       "        vertical-align: top;\n",
       "    }\n",
       "\n",
       "    .dataframe thead th {\n",
       "        text-align: right;\n",
       "    }\n",
       "</style>\n",
       "<table border=\"1\" class=\"dataframe\">\n",
       "  <thead>\n",
       "    <tr style=\"text-align: right;\">\n",
       "      <th></th>\n",
       "      <th>species</th>\n",
       "      <th>island</th>\n",
       "      <th>bill_length_mm</th>\n",
       "      <th>bill_depth_mm</th>\n",
       "      <th>flipper_length_mm</th>\n",
       "      <th>body_mass_g</th>\n",
       "      <th>sex</th>\n",
       "    </tr>\n",
       "  </thead>\n",
       "  <tbody>\n",
       "    <tr>\n",
       "      <th>0</th>\n",
       "      <td>Adelie</td>\n",
       "      <td>Torgersen</td>\n",
       "      <td>39.1</td>\n",
       "      <td>18.7</td>\n",
       "      <td>181.0</td>\n",
       "      <td>3750.0</td>\n",
       "      <td>Male</td>\n",
       "    </tr>\n",
       "    <tr>\n",
       "      <th>1</th>\n",
       "      <td>Adelie</td>\n",
       "      <td>Torgersen</td>\n",
       "      <td>39.5</td>\n",
       "      <td>17.4</td>\n",
       "      <td>186.0</td>\n",
       "      <td>3800.0</td>\n",
       "      <td>Female</td>\n",
       "    </tr>\n",
       "    <tr>\n",
       "      <th>2</th>\n",
       "      <td>Adelie</td>\n",
       "      <td>Torgersen</td>\n",
       "      <td>40.3</td>\n",
       "      <td>18.0</td>\n",
       "      <td>195.0</td>\n",
       "      <td>3250.0</td>\n",
       "      <td>Female</td>\n",
       "    </tr>\n",
       "    <tr>\n",
       "      <th>3</th>\n",
       "      <td>Adelie</td>\n",
       "      <td>Torgersen</td>\n",
       "      <td>NaN</td>\n",
       "      <td>NaN</td>\n",
       "      <td>NaN</td>\n",
       "      <td>NaN</td>\n",
       "      <td>NaN</td>\n",
       "    </tr>\n",
       "    <tr>\n",
       "      <th>4</th>\n",
       "      <td>Adelie</td>\n",
       "      <td>Torgersen</td>\n",
       "      <td>36.7</td>\n",
       "      <td>19.3</td>\n",
       "      <td>193.0</td>\n",
       "      <td>3450.0</td>\n",
       "      <td>Female</td>\n",
       "    </tr>\n",
       "    <tr>\n",
       "      <th>5</th>\n",
       "      <td>Adelie</td>\n",
       "      <td>Torgersen</td>\n",
       "      <td>39.3</td>\n",
       "      <td>20.6</td>\n",
       "      <td>190.0</td>\n",
       "      <td>3650.0</td>\n",
       "      <td>Male</td>\n",
       "    </tr>\n",
       "    <tr>\n",
       "      <th>6</th>\n",
       "      <td>Adelie</td>\n",
       "      <td>Torgersen</td>\n",
       "      <td>38.9</td>\n",
       "      <td>17.8</td>\n",
       "      <td>181.0</td>\n",
       "      <td>3625.0</td>\n",
       "      <td>Female</td>\n",
       "    </tr>\n",
       "    <tr>\n",
       "      <th>7</th>\n",
       "      <td>Adelie</td>\n",
       "      <td>Torgersen</td>\n",
       "      <td>39.2</td>\n",
       "      <td>19.6</td>\n",
       "      <td>195.0</td>\n",
       "      <td>4675.0</td>\n",
       "      <td>Male</td>\n",
       "    </tr>\n",
       "    <tr>\n",
       "      <th>8</th>\n",
       "      <td>Adelie</td>\n",
       "      <td>Torgersen</td>\n",
       "      <td>34.1</td>\n",
       "      <td>18.1</td>\n",
       "      <td>193.0</td>\n",
       "      <td>3475.0</td>\n",
       "      <td>NaN</td>\n",
       "    </tr>\n",
       "    <tr>\n",
       "      <th>9</th>\n",
       "      <td>Adelie</td>\n",
       "      <td>Torgersen</td>\n",
       "      <td>42.0</td>\n",
       "      <td>20.2</td>\n",
       "      <td>190.0</td>\n",
       "      <td>4250.0</td>\n",
       "      <td>NaN</td>\n",
       "    </tr>\n",
       "  </tbody>\n",
       "</table>\n",
       "</div>"
      ],
      "text/plain": [
       "  species     island  bill_length_mm  bill_depth_mm  flipper_length_mm  \\\n",
       "0  Adelie  Torgersen            39.1           18.7              181.0   \n",
       "1  Adelie  Torgersen            39.5           17.4              186.0   \n",
       "2  Adelie  Torgersen            40.3           18.0              195.0   \n",
       "3  Adelie  Torgersen             NaN            NaN                NaN   \n",
       "4  Adelie  Torgersen            36.7           19.3              193.0   \n",
       "5  Adelie  Torgersen            39.3           20.6              190.0   \n",
       "6  Adelie  Torgersen            38.9           17.8              181.0   \n",
       "7  Adelie  Torgersen            39.2           19.6              195.0   \n",
       "8  Adelie  Torgersen            34.1           18.1              193.0   \n",
       "9  Adelie  Torgersen            42.0           20.2              190.0   \n",
       "\n",
       "   body_mass_g     sex  \n",
       "0       3750.0    Male  \n",
       "1       3800.0  Female  \n",
       "2       3250.0  Female  \n",
       "3          NaN     NaN  \n",
       "4       3450.0  Female  \n",
       "5       3650.0    Male  \n",
       "6       3625.0  Female  \n",
       "7       4675.0    Male  \n",
       "8       3475.0     NaN  \n",
       "9       4250.0     NaN  "
      ]
     },
     "execution_count": 100,
     "metadata": {},
     "output_type": "execute_result"
    }
   ],
   "source": [
    "penguins.head(10)"
   ]
  },
  {
   "cell_type": "markdown",
   "id": "a61c0edd-4bdd-4b93-89e1-1b0486b27d06",
   "metadata": {},
   "source": [
    "So what do we know at this point?\n",
    "\n",
    "Based on the dataset descriptive file, we were expecting our dataset to have a total of 7 columns: 3 text-based columns and 4 numeric columns. Also, we can see that all of our text-based columns are categorical, meaning that each of these columns has a finite set of possible values.\n",
    "\n",
    "Compared to the information that we gathered from the actual dataset, we see that the overall structure of the dataset matches the descriptive file. We also know at this point that the dataset has 344 entries and there are some missing values within the dataset. Finally, we have a range of values for all the columns."
   ]
  },
  {
   "cell_type": "markdown",
   "id": "7b2d4e09-5345-409b-b684-09a4252d5217",
   "metadata": {},
   "source": [
    "### Creating a new database and schema\n",
    "Before we proceed too far, let's take a quick peek at my local PostgreSQL database using pgAdmin4.\n",
    "<img align=\"center\" style=\"padding-right:10px;\" src=\"figures_wk2/pgadmin_before.png\" width=650><br>\n",
    "PostgreSQL loads a generic default database, **postgres**, with one schema named **public** for you."
   ]
  },
  {
   "cell_type": "markdown",
   "id": "e1db32c8-dbc2-40d7-a38a-1e7bbd5e188a",
   "metadata": {},
   "source": [
    "To create a new database, click on the Object drop-down, select Create and select database. \n",
    "<img align=\"center\" style=\"padding-right:10px;\" src=\"figures_wk2/create_db.png\" width=450><br>"
   ]
  },
  {
   "cell_type": "markdown",
   "id": "dbd3c889-10e2-4641-973d-e5da12629ac0",
   "metadata": {},
   "source": [
    "Enter the name of your new database and click Save.\n",
    "<img align=\"center\" style=\"padding-right:10px;\" src=\"figures_wk2/create_db_2.png\" width=450><br>"
   ]
  },
  {
   "cell_type": "markdown",
   "id": "9debb8ad-0c49-4386-a985-c36702e8ba31",
   "metadata": {},
   "source": [
    "Now it's time to add a new schema. Select the newly created database from the tree on the left side of the pgAdmin screen. The select the Object -> Create again. This time pick Schema. Like you did before, enter the schema name.\n",
    "<img align=\"center\" style=\"padding-right:10px;\" src=\"figures_wk2/create_schema.png\" width=650><br>"
   ]
  },
  {
   "cell_type": "markdown",
   "id": "f127dece-10ac-4e5c-b373-91bee5217261",
   "metadata": {},
   "source": [
    "<img align=\"right\" style=\"padding-left:10px;\" src=\"figures_wk2/pgadmin_after.png\" width=200><br>\n",
    "If we expand the tree view (toggle '>') for the newly created raw schema, we can see a Tables entry in the tree-tree view. This is where we will be making a storage spot for our data. \n",
    "\n",
    "Since this is a new PostgreSQL installation, there are no tables in this schema, which is fine. We will fix that.\n"
   ]
  },
  {
   "cell_type": "markdown",
   "id": "1de9705e-74d7-4761-92a4-b5c4cae057e0",
   "metadata": {},
   "source": [
    "### Loading data\n",
    "Back to our data."
   ]
  },
  {
   "cell_type": "code",
   "execution_count": 50,
   "id": "19abeba9-4ede-426e-a915-af6ba520fdd1",
   "metadata": {},
   "outputs": [
    {
     "data": {
      "text/plain": [
       "(344, 7)"
      ]
     },
     "execution_count": 50,
     "metadata": {},
     "output_type": "execute_result"
    }
   ],
   "source": [
    "penguins.shape"
   ]
  },
  {
   "cell_type": "markdown",
   "id": "a9cd0873-fbeb-45da-a5ba-35085fd24609",
   "metadata": {},
   "source": [
    "If you don't have the psycopg2 package installed, you can use the following cell. Just uncomment it and run it.  Then comment it out again."
   ]
  },
  {
   "cell_type": "code",
   "execution_count": 69,
   "id": "f58914e4-48da-40a7-9146-c38d1473b683",
   "metadata": {},
   "outputs": [],
   "source": [
    "#!pip install psycopg2"
   ]
  },
  {
   "cell_type": "markdown",
   "id": "3f9437ee-e1cf-4bce-abdf-964220090c6a",
   "metadata": {},
   "source": [
    "Import the packages necessary to interact with the database."
   ]
  },
  {
   "cell_type": "code",
   "execution_count": 72,
   "id": "b18bdbb8-0250-456a-b334-ed5e8a7ce6c6",
   "metadata": {},
   "outputs": [],
   "source": [
    "from sqlalchemy import create_engine"
   ]
  },
  {
   "cell_type": "markdown",
   "id": "47d00f33-3b0f-4ef8-8028-a10a4f4d8f01",
   "metadata": {},
   "source": [
    "Let's establish a few variables to make our code a bit more readable."
   ]
  },
  {
   "cell_type": "code",
   "execution_count": 75,
   "id": "b729a380-fe4e-4f50-96ec-892b8126d0b8",
   "metadata": {},
   "outputs": [],
   "source": [
    "# Note:: The make sure you use the information from your specific PostgreSQL installation\n",
    "host = r'127.0.0.1' # denotes that the db in a local installation\n",
    "db = r'MSDS610' # db we just created\n",
    "user = r'postgres' # using the postgres user for this demo\n",
    "pw = r'postgres' # this is the password established during installation\n",
    "port = r'5432' # default port estabalished during install\n",
    "schema = r'raw' # schema we just created"
   ]
  },
  {
   "cell_type": "code",
   "execution_count": 77,
   "id": "34b69a3a-2b6e-4b64-8400-6ccde71e39bc",
   "metadata": {},
   "outputs": [],
   "source": [
    "db_conn = create_engine(\"postgresql://{}:{}@{}:{}/{}\".format(user, pw, host, port, db))"
   ]
  },
  {
   "cell_type": "markdown",
   "id": "8ec8122d-567f-40bb-9352-88dd263102ef",
   "metadata": {},
   "source": [
    "Let's test out our connection to the database. I'm going to pull back a list of the tables that are in the **raw** schema for the **MSDS610** database. <br>\n",
    "<i>Hint: We know there aren't any tables out there, but if there is anything wrong with the connect to the datbase, it will tell us.</i>"
   ]
  },
  {
   "cell_type": "code",
   "execution_count": 80,
   "id": "e0a6bc34-9190-4304-96a0-a7cd6d09a3b6",
   "metadata": {},
   "outputs": [
    {
     "data": {
      "text/html": [
       "<div>\n",
       "<style scoped>\n",
       "    .dataframe tbody tr th:only-of-type {\n",
       "        vertical-align: middle;\n",
       "    }\n",
       "\n",
       "    .dataframe tbody tr th {\n",
       "        vertical-align: top;\n",
       "    }\n",
       "\n",
       "    .dataframe thead th {\n",
       "        text-align: right;\n",
       "    }\n",
       "</style>\n",
       "<table border=\"1\" class=\"dataframe\">\n",
       "  <thead>\n",
       "    <tr style=\"text-align: right;\">\n",
       "      <th></th>\n",
       "      <th>table_name</th>\n",
       "    </tr>\n",
       "  </thead>\n",
       "  <tbody>\n",
       "  </tbody>\n",
       "</table>\n",
       "</div>"
      ],
      "text/plain": [
       "Empty DataFrame\n",
       "Columns: [table_name]\n",
       "Index: []"
      ]
     },
     "execution_count": 80,
     "metadata": {},
     "output_type": "execute_result"
    }
   ],
   "source": [
    "sql=\"select tables.table_name from information_schema.tables where (table_schema ='\"+schema+\"')order by 1;\"\n",
    "tbl_df = pd.read_sql(sql, db_conn, index_col=None)\n",
    "tbl_df"
   ]
  },
  {
   "cell_type": "markdown",
   "id": "8ee0e6a2-ffb3-4d99-b675-7c30f143b765",
   "metadata": {},
   "source": [
    "This is good news! Everything is matching up.\n",
    "\n",
    "### Time to load some data\n",
    "We need to define a name for the table that we are above to create in our database."
   ]
  },
  {
   "cell_type": "code",
   "execution_count": 85,
   "id": "6d340b0b-af5b-423d-8662-6f2887024c15",
   "metadata": {},
   "outputs": [],
   "source": [
    "table_name = r'penguin_data'"
   ]
  },
  {
   "cell_type": "markdown",
   "id": "129b1460-2282-4a7b-b5a6-ed5e4392638e",
   "metadata": {},
   "source": [
    "One of the reasons Pandas is popular is that it has a lot of built in functions.  We used the to_sql() function and Pandas handled all the work for us. You can read more about this function on the [to_sql()](https://pandas.pydata.org/docs/reference/api/pandas.DataFrame.to_sql.html) page."
   ]
  },
  {
   "cell_type": "code",
   "execution_count": 88,
   "id": "0a3e3bc7-4736-4ba5-8699-fa7252076ea0",
   "metadata": {},
   "outputs": [
    {
     "data": {
      "text/plain": [
       "344"
      ]
     },
     "execution_count": 88,
     "metadata": {},
     "output_type": "execute_result"
    }
   ],
   "source": [
    "penguins.to_sql(table_name, con=db_conn, if_exists='replace', index=False, schema=schema, chunksize=1000, method='multi')"
   ]
  },
  {
   "cell_type": "markdown",
   "id": "52f757ef-2fe2-4a4a-84ed-2e172ffd494a",
   "metadata": {},
   "source": [
    "If everything has worked out, we should now be able to see that our raw schema has one table in it now."
   ]
  },
  {
   "cell_type": "code",
   "execution_count": 91,
   "id": "026e2da4-882e-430e-b88b-efa6209b1eb1",
   "metadata": {},
   "outputs": [
    {
     "data": {
      "text/html": [
       "<div>\n",
       "<style scoped>\n",
       "    .dataframe tbody tr th:only-of-type {\n",
       "        vertical-align: middle;\n",
       "    }\n",
       "\n",
       "    .dataframe tbody tr th {\n",
       "        vertical-align: top;\n",
       "    }\n",
       "\n",
       "    .dataframe thead th {\n",
       "        text-align: right;\n",
       "    }\n",
       "</style>\n",
       "<table border=\"1\" class=\"dataframe\">\n",
       "  <thead>\n",
       "    <tr style=\"text-align: right;\">\n",
       "      <th></th>\n",
       "      <th>table_name</th>\n",
       "    </tr>\n",
       "  </thead>\n",
       "  <tbody>\n",
       "    <tr>\n",
       "      <th>0</th>\n",
       "      <td>penguin_data</td>\n",
       "    </tr>\n",
       "  </tbody>\n",
       "</table>\n",
       "</div>"
      ],
      "text/plain": [
       "     table_name\n",
       "0  penguin_data"
      ]
     },
     "execution_count": 91,
     "metadata": {},
     "output_type": "execute_result"
    }
   ],
   "source": [
    "tbl_df = pd.read_sql(sql, db_conn, index_col=None)\n",
    "tbl_df"
   ]
  },
  {
   "cell_type": "markdown",
   "id": "90eca6ff-0f0d-4763-95b1-b6387dea670d",
   "metadata": {},
   "source": [
    "Hooray! We at least know that a table was created at this point.\n",
    "\n",
    "### Retrieving data \n",
    "Okay, time to actually verify that our data was loaded to the database. For this, I'll retreive the entire dataset."
   ]
  },
  {
   "cell_type": "code",
   "execution_count": 94,
   "id": "4d5a6a65-6bc2-4c05-a569-5a96815fedff",
   "metadata": {},
   "outputs": [],
   "source": [
    "sql=r'SELECT * FROM ' + schema + '.' + table_name\n",
    "penquin_check = pd.read_sql(sql, db_conn, index_col=None)"
   ]
  },
  {
   "cell_type": "code",
   "execution_count": 96,
   "id": "93477d88-99d6-49b0-8f29-f1ee674ba0e7",
   "metadata": {},
   "outputs": [
    {
     "data": {
      "text/html": [
       "<div>\n",
       "<style scoped>\n",
       "    .dataframe tbody tr th:only-of-type {\n",
       "        vertical-align: middle;\n",
       "    }\n",
       "\n",
       "    .dataframe tbody tr th {\n",
       "        vertical-align: top;\n",
       "    }\n",
       "\n",
       "    .dataframe thead th {\n",
       "        text-align: right;\n",
       "    }\n",
       "</style>\n",
       "<table border=\"1\" class=\"dataframe\">\n",
       "  <thead>\n",
       "    <tr style=\"text-align: right;\">\n",
       "      <th></th>\n",
       "      <th>species</th>\n",
       "      <th>island</th>\n",
       "      <th>bill_length_mm</th>\n",
       "      <th>bill_depth_mm</th>\n",
       "      <th>flipper_length_mm</th>\n",
       "      <th>body_mass_g</th>\n",
       "      <th>sex</th>\n",
       "    </tr>\n",
       "  </thead>\n",
       "  <tbody>\n",
       "    <tr>\n",
       "      <th>0</th>\n",
       "      <td>Adelie</td>\n",
       "      <td>Torgersen</td>\n",
       "      <td>39.1</td>\n",
       "      <td>18.7</td>\n",
       "      <td>181.0</td>\n",
       "      <td>3750.0</td>\n",
       "      <td>Male</td>\n",
       "    </tr>\n",
       "    <tr>\n",
       "      <th>1</th>\n",
       "      <td>Adelie</td>\n",
       "      <td>Torgersen</td>\n",
       "      <td>39.5</td>\n",
       "      <td>17.4</td>\n",
       "      <td>186.0</td>\n",
       "      <td>3800.0</td>\n",
       "      <td>Female</td>\n",
       "    </tr>\n",
       "    <tr>\n",
       "      <th>2</th>\n",
       "      <td>Adelie</td>\n",
       "      <td>Torgersen</td>\n",
       "      <td>40.3</td>\n",
       "      <td>18.0</td>\n",
       "      <td>195.0</td>\n",
       "      <td>3250.0</td>\n",
       "      <td>Female</td>\n",
       "    </tr>\n",
       "    <tr>\n",
       "      <th>3</th>\n",
       "      <td>Adelie</td>\n",
       "      <td>Torgersen</td>\n",
       "      <td>NaN</td>\n",
       "      <td>NaN</td>\n",
       "      <td>NaN</td>\n",
       "      <td>NaN</td>\n",
       "      <td>None</td>\n",
       "    </tr>\n",
       "    <tr>\n",
       "      <th>4</th>\n",
       "      <td>Adelie</td>\n",
       "      <td>Torgersen</td>\n",
       "      <td>36.7</td>\n",
       "      <td>19.3</td>\n",
       "      <td>193.0</td>\n",
       "      <td>3450.0</td>\n",
       "      <td>Female</td>\n",
       "    </tr>\n",
       "    <tr>\n",
       "      <th>5</th>\n",
       "      <td>Adelie</td>\n",
       "      <td>Torgersen</td>\n",
       "      <td>39.3</td>\n",
       "      <td>20.6</td>\n",
       "      <td>190.0</td>\n",
       "      <td>3650.0</td>\n",
       "      <td>Male</td>\n",
       "    </tr>\n",
       "    <tr>\n",
       "      <th>6</th>\n",
       "      <td>Adelie</td>\n",
       "      <td>Torgersen</td>\n",
       "      <td>38.9</td>\n",
       "      <td>17.8</td>\n",
       "      <td>181.0</td>\n",
       "      <td>3625.0</td>\n",
       "      <td>Female</td>\n",
       "    </tr>\n",
       "    <tr>\n",
       "      <th>7</th>\n",
       "      <td>Adelie</td>\n",
       "      <td>Torgersen</td>\n",
       "      <td>39.2</td>\n",
       "      <td>19.6</td>\n",
       "      <td>195.0</td>\n",
       "      <td>4675.0</td>\n",
       "      <td>Male</td>\n",
       "    </tr>\n",
       "    <tr>\n",
       "      <th>8</th>\n",
       "      <td>Adelie</td>\n",
       "      <td>Torgersen</td>\n",
       "      <td>34.1</td>\n",
       "      <td>18.1</td>\n",
       "      <td>193.0</td>\n",
       "      <td>3475.0</td>\n",
       "      <td>None</td>\n",
       "    </tr>\n",
       "    <tr>\n",
       "      <th>9</th>\n",
       "      <td>Adelie</td>\n",
       "      <td>Torgersen</td>\n",
       "      <td>42.0</td>\n",
       "      <td>20.2</td>\n",
       "      <td>190.0</td>\n",
       "      <td>4250.0</td>\n",
       "      <td>None</td>\n",
       "    </tr>\n",
       "  </tbody>\n",
       "</table>\n",
       "</div>"
      ],
      "text/plain": [
       "  species     island  bill_length_mm  bill_depth_mm  flipper_length_mm  \\\n",
       "0  Adelie  Torgersen            39.1           18.7              181.0   \n",
       "1  Adelie  Torgersen            39.5           17.4              186.0   \n",
       "2  Adelie  Torgersen            40.3           18.0              195.0   \n",
       "3  Adelie  Torgersen             NaN            NaN                NaN   \n",
       "4  Adelie  Torgersen            36.7           19.3              193.0   \n",
       "5  Adelie  Torgersen            39.3           20.6              190.0   \n",
       "6  Adelie  Torgersen            38.9           17.8              181.0   \n",
       "7  Adelie  Torgersen            39.2           19.6              195.0   \n",
       "8  Adelie  Torgersen            34.1           18.1              193.0   \n",
       "9  Adelie  Torgersen            42.0           20.2              190.0   \n",
       "\n",
       "   body_mass_g     sex  \n",
       "0       3750.0    Male  \n",
       "1       3800.0  Female  \n",
       "2       3250.0  Female  \n",
       "3          NaN    None  \n",
       "4       3450.0  Female  \n",
       "5       3650.0    Male  \n",
       "6       3625.0  Female  \n",
       "7       4675.0    Male  \n",
       "8       3475.0    None  \n",
       "9       4250.0    None  "
      ]
     },
     "execution_count": 96,
     "metadata": {},
     "output_type": "execute_result"
    }
   ],
   "source": [
    "penquin_check.head(10)"
   ]
  },
  {
   "cell_type": "markdown",
   "id": "4ea75a78-97b1-4b56-9a08-488cd404fae6",
   "metadata": {},
   "source": [
    "### Verifying through pgAdmin\n",
    "In pgAdmin, right-click on the MSDS610 database and select Refresh.\n",
    "<img align=\"center\" style=\"padding-left:10px;\" src=\"figures_wk2/pgadmin_refresh.png\" width=400><br>"
   ]
  },
  {
   "cell_type": "markdown",
   "id": "82202b9e-748b-4ac2-bd14-78e36caca70b",
   "metadata": {},
   "source": [
    "After the database refreshes, you should see the penguin_data table.\n",
    "<img align=\"right\" style=\"padding-left:10px;\" src=\"figures_wk2/pgadmin_refresh_2.png\" width=200><br>"
   ]
  },
  {
   "cell_type": "markdown",
   "id": "f958957e-d634-4daa-8312-e9be123df7d4",
   "metadata": {},
   "source": [
    "There are several tutorials online that will show you how to further explore pgAdmin."
   ]
  },
  {
   "cell_type": "code",
   "execution_count": null,
   "id": "f52c8c2b-d446-47c9-b88a-243f4863e328",
   "metadata": {},
   "outputs": [],
   "source": []
  }
 ],
 "metadata": {
  "kernelspec": {
   "display_name": "Python 3 (ipykernel)",
   "language": "python",
   "name": "python3"
  },
  "language_info": {
   "codemirror_mode": {
    "name": "ipython",
    "version": 3
   },
   "file_extension": ".py",
   "mimetype": "text/x-python",
   "name": "python",
   "nbconvert_exporter": "python",
   "pygments_lexer": "ipython3",
   "version": "3.12.4"
  }
 },
 "nbformat": 4,
 "nbformat_minor": 5
}
